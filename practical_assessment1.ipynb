{
 "cells": [
  {
   "cell_type": "markdown",
   "metadata": {},
   "source": [
    "Import standard libraries that I will need ....."
   ]
  },
  {
   "cell_type": "code",
   "execution_count": 1142,
   "metadata": {},
   "outputs": [],
   "source": [
    "import pandas as pd\n",
    "import numpy as np\n",
    "import matplotlib as mpl\n",
    "import matplotlib.pyplot as plt\n"
   ]
  },
  {
   "cell_type": "code",
   "execution_count": 1143,
   "metadata": {},
   "outputs": [],
   "source": [
    "df=[]"
   ]
  },
  {
   "cell_type": "markdown",
   "metadata": {},
   "source": [
    "Read in the data as a xlsx file ....."
   ]
  },
  {
   "cell_type": "code",
   "execution_count": 1144,
   "metadata": {},
   "outputs": [],
   "source": [
    "df = pd.read_excel(\"SIS_Faculty-List.xlsx\")"
   ]
  },
  {
   "cell_type": "markdown",
   "metadata": {},
   "source": [
    "Shows the rows count and the types:"
   ]
  },
  {
   "cell_type": "code",
   "execution_count": 1145,
   "metadata": {},
   "outputs": [
    {
     "name": "stdout",
     "output_type": "stream",
     "text": [
      "<class 'pandas.core.frame.DataFrame'>\n",
      "RangeIndex: 284 entries, 0 to 283\n",
      "Data columns (total 19 columns):\n",
      " #   Column                                                                                                                         Non-Null Count  Dtype         \n",
      "---  ------                                                                                                                         --------------  -----         \n",
      " 0   ID                                                                                                                             282 non-null    object        \n",
      " 1   Name                                                                                                                           284 non-null    object        \n",
      " 2   Location                                                                                                                       270 non-null    object        \n",
      " 3   Grade                                                                                                                          284 non-null    object        \n",
      " 4   Title                                                                                                                          284 non-null    object        \n",
      " 5   Join\n",
      "Date                                                                                                                      283 non-null    datetime64[ns]\n",
      " 6   LWD                                                                                                                            11 non-null     datetime64[ns]\n",
      " 7   Type                                                                                                                           284 non-null    object        \n",
      " 8   Divison                                                                                                                        284 non-null    object        \n",
      " 9   Reports To                                                                                                                     280 non-null    object        \n",
      " 10  Highest\n",
      "Qualification\n",
      "Level                                                                                                    278 non-null    object        \n",
      " 11  Highest Qualification                                                                                                          278 non-null    object        \n",
      " 12  Major                                                                                                                          262 non-null    object        \n",
      " 13  University                                                                                                                     278 non-null    object        \n",
      " 14  All Qualifications from Profile                                                                                                274 non-null    object        \n",
      " 15  Courses Taught- Term 201510                                                                                                    273 non-null    object        \n",
      " 16  MAJOR TEACHING FIELD                                                                                                           225 non-null    object        \n",
      " 17  DOCUMENT OTHER PROFESSIONAL CERTIFICATION CRITIERA Five Years Work Experience Teaching Excellence Professional Certifications  222 non-null    object        \n",
      " 18  Criteria                                                                                                                       284 non-null    object        \n",
      "dtypes: datetime64[ns](2), object(17)\n",
      "memory usage: 42.3+ KB\n"
     ]
    }
   ],
   "source": [
    "df.info()"
   ]
  },
  {
   "cell_type": "markdown",
   "metadata": {},
   "source": [
    "Show the first 10 rows: "
   ]
  },
  {
   "cell_type": "code",
   "execution_count": 1146,
   "metadata": {},
   "outputs": [
    {
     "data": {
      "text/html": [
       "<div>\n",
       "<style scoped>\n",
       "    .dataframe tbody tr th:only-of-type {\n",
       "        vertical-align: middle;\n",
       "    }\n",
       "\n",
       "    .dataframe tbody tr th {\n",
       "        vertical-align: top;\n",
       "    }\n",
       "\n",
       "    .dataframe thead th {\n",
       "        text-align: right;\n",
       "    }\n",
       "</style>\n",
       "<table border=\"1\" class=\"dataframe\">\n",
       "  <thead>\n",
       "    <tr style=\"text-align: right;\">\n",
       "      <th></th>\n",
       "      <th>ID</th>\n",
       "      <th>Name</th>\n",
       "      <th>Location</th>\n",
       "      <th>Grade</th>\n",
       "      <th>Title</th>\n",
       "      <th>Join\\nDate</th>\n",
       "      <th>LWD</th>\n",
       "      <th>Type</th>\n",
       "      <th>Divison</th>\n",
       "      <th>Reports To</th>\n",
       "      <th>Highest\\nQualification\\nLevel</th>\n",
       "      <th>Highest Qualification</th>\n",
       "      <th>Major</th>\n",
       "      <th>University</th>\n",
       "      <th>All Qualifications from Profile</th>\n",
       "      <th>Courses Taught- Term 201510</th>\n",
       "      <th>MAJOR TEACHING FIELD</th>\n",
       "      <th>DOCUMENT OTHER PROFESSIONAL CERTIFICATION CRITIERA Five Years Work Experience Teaching Excellence Professional Certifications</th>\n",
       "      <th>Criteria</th>\n",
       "    </tr>\n",
       "  </thead>\n",
       "  <tbody>\n",
       "    <tr>\n",
       "      <th>0</th>\n",
       "      <td>LT9210743</td>\n",
       "      <td>Jim Hunter</td>\n",
       "      <td>London</td>\n",
       "      <td>FA</td>\n",
       "      <td>Faculty - Business</td>\n",
       "      <td>2010-08-29</td>\n",
       "      <td>NaT</td>\n",
       "      <td>Full Time</td>\n",
       "      <td>Business</td>\n",
       "      <td>Abbas Houda</td>\n",
       "      <td>Masters</td>\n",
       "      <td>Master of Arts</td>\n",
       "      <td>International Affairs</td>\n",
       "      <td>American University of Beirut</td>\n",
       "      <td>Bachelor of Science (Communications), Master o...</td>\n",
       "      <td>BUS2403 - Innovation &amp; Entrepreneurship\\nBUS20...</td>\n",
       "      <td>Business Administration</td>\n",
       "      <td>10+ Years Small Business Ownership, 10+ Years ...</td>\n",
       "      <td>Industry &amp; Teaching experience</td>\n",
       "    </tr>\n",
       "    <tr>\n",
       "      <th>1</th>\n",
       "      <td>LT9001784</td>\n",
       "      <td>Jose Nadal</td>\n",
       "      <td>London</td>\n",
       "      <td>FA</td>\n",
       "      <td>Faculty - Business</td>\n",
       "      <td>1999-08-19</td>\n",
       "      <td>NaT</td>\n",
       "      <td>Full Time</td>\n",
       "      <td>Business</td>\n",
       "      <td>Abbas Houda</td>\n",
       "      <td>Masters</td>\n",
       "      <td>Master of Science</td>\n",
       "      <td>Business Info. Technology</td>\n",
       "      <td>University of Northumbria</td>\n",
       "      <td>Bachelor of Arts (Finance), Certificate (Manag...</td>\n",
       "      <td>BUS4173 - Managerial Accounting II\\nBUS4916 - ...</td>\n",
       "      <td>Business</td>\n",
       "      <td>years of teaching experience: 17              ...</td>\n",
       "      <td>Certification</td>\n",
       "    </tr>\n",
       "    <tr>\n",
       "      <th>2</th>\n",
       "      <td>LT9062955</td>\n",
       "      <td>Pierre Cornet</td>\n",
       "      <td>London</td>\n",
       "      <td>FA</td>\n",
       "      <td>Faculty - Business</td>\n",
       "      <td>2007-04-08</td>\n",
       "      <td>NaT</td>\n",
       "      <td>Full Time</td>\n",
       "      <td>Business</td>\n",
       "      <td>Abbas Houda</td>\n",
       "      <td>Masters</td>\n",
       "      <td>Master of Business Administrat</td>\n",
       "      <td>Marketing</td>\n",
       "      <td>Griffith University</td>\n",
       "      <td>Certificate (Educating/Teaching Adult), Associ...</td>\n",
       "      <td>BUS3903 - Contemporary Business\\nBUS1303 - Mar...</td>\n",
       "      <td>Marketing and Strategic Management</td>\n",
       "      <td>Years of teaching experience: 15\\nYears of pro...</td>\n",
       "      <td>Industry &amp; Teaching experience</td>\n",
       "    </tr>\n",
       "    <tr>\n",
       "      <th>3</th>\n",
       "      <td>0</td>\n",
       "      <td>Sally Smith</td>\n",
       "      <td>London</td>\n",
       "      <td>FA</td>\n",
       "      <td>Faculty - Business</td>\n",
       "      <td>2016-08-14</td>\n",
       "      <td>NaT</td>\n",
       "      <td>Full Time</td>\n",
       "      <td>Business</td>\n",
       "      <td>Abbas Houda</td>\n",
       "      <td>Ph.D</td>\n",
       "      <td>Ph.D in HRM/ Organizational pyschology</td>\n",
       "      <td>HRM/ Organizational Psychology</td>\n",
       "      <td>The University of Swansea, UK</td>\n",
       "      <td>Bachelor(finance &amp; Mgt), Masters(MBA &amp; Masters...</td>\n",
       "      <td>HRM, Organizational behaviour, Strategic Mgt, ...</td>\n",
       "      <td>HRM</td>\n",
       "      <td>6 years professional experience + 6 years teac...</td>\n",
       "      <td>Researcher</td>\n",
       "    </tr>\n",
       "    <tr>\n",
       "      <th>4</th>\n",
       "      <td>0</td>\n",
       "      <td>Ned Shearer</td>\n",
       "      <td>London</td>\n",
       "      <td>Chair</td>\n",
       "      <td>Faculty - Business</td>\n",
       "      <td>2016-08-14</td>\n",
       "      <td>NaT</td>\n",
       "      <td>Full Time</td>\n",
       "      <td>Business</td>\n",
       "      <td>Tony Emmanuel</td>\n",
       "      <td>Ph.D</td>\n",
       "      <td>Ph.D in Economics and International Business</td>\n",
       "      <td>Economics and International Business</td>\n",
       "      <td>New York University, USA</td>\n",
       "      <td>Bachelor( Economics), Masters( Economics and I...</td>\n",
       "      <td>Micro and Macroeconomics, Statistics,Introduct...</td>\n",
       "      <td>Economics and International Business</td>\n",
       "      <td>1 year professional experience + 24 years teac...</td>\n",
       "      <td>Researcher/Curriculum Development</td>\n",
       "    </tr>\n",
       "    <tr>\n",
       "      <th>5</th>\n",
       "      <td>LT9329000</td>\n",
       "      <td>Bill Lister</td>\n",
       "      <td>Liverpool</td>\n",
       "      <td>FA</td>\n",
       "      <td>Faculty - Business</td>\n",
       "      <td>2015-08-10</td>\n",
       "      <td>NaT</td>\n",
       "      <td>Full Time</td>\n",
       "      <td>Business</td>\n",
       "      <td>Abbas Houda</td>\n",
       "      <td>Doctorate</td>\n",
       "      <td>Ph.D</td>\n",
       "      <td>Business Administration</td>\n",
       "      <td>Swiss Management Center</td>\n",
       "      <td>Ph.D (Business Administration), Master of Busi...</td>\n",
       "      <td>BUS3103 - Internat Busi Globalisation\\nBUS1303...</td>\n",
       "      <td>NaN</td>\n",
       "      <td>NaN</td>\n",
       "      <td>Industry &amp; Teaching experience</td>\n",
       "    </tr>\n",
       "    <tr>\n",
       "      <th>6</th>\n",
       "      <td>LT9308851</td>\n",
       "      <td>Phil Woodley</td>\n",
       "      <td>Liverpool</td>\n",
       "      <td>FA</td>\n",
       "      <td>Faculty - Business (Admin)</td>\n",
       "      <td>2015-03-08</td>\n",
       "      <td>NaT</td>\n",
       "      <td>Full Time</td>\n",
       "      <td>Business</td>\n",
       "      <td>Abbas Houda</td>\n",
       "      <td>Masters</td>\n",
       "      <td>Masters</td>\n",
       "      <td>Health Administration</td>\n",
       "      <td>University of Ottawa</td>\n",
       "      <td>Bachelor (Accounting &amp; Finance), Masters (Heal...</td>\n",
       "      <td>BUS2403 - Innovation &amp; Entrepreneurship\\nBUS23...</td>\n",
       "      <td>NaN</td>\n",
       "      <td>NaN</td>\n",
       "      <td>Industry &amp; Teaching experience</td>\n",
       "    </tr>\n",
       "    <tr>\n",
       "      <th>7</th>\n",
       "      <td>LT9231337</td>\n",
       "      <td>Terry Hamilton</td>\n",
       "      <td>Liverpool</td>\n",
       "      <td>FA</td>\n",
       "      <td>Faculty - Business</td>\n",
       "      <td>2011-08-14</td>\n",
       "      <td>NaT</td>\n",
       "      <td>Full Time</td>\n",
       "      <td>Business</td>\n",
       "      <td>Abbas Houda</td>\n",
       "      <td>Doctorate</td>\n",
       "      <td>Doctorate in Business Admin</td>\n",
       "      <td>Business</td>\n",
       "      <td>Lyceum Of The Philippines</td>\n",
       "      <td>Bachelor of Science (Accountancy), Master of M...</td>\n",
       "      <td>BUS4956 - Integrative Industry Project\\nBUS390...</td>\n",
       "      <td>Business Management\\nCorporate Governance</td>\n",
       "      <td>11 years teaching experience</td>\n",
       "      <td>Industry &amp; Teaching experience</td>\n",
       "    </tr>\n",
       "    <tr>\n",
       "      <th>8</th>\n",
       "      <td>LT9280242</td>\n",
       "      <td>Raj Patel</td>\n",
       "      <td>Liverpool</td>\n",
       "      <td>FA</td>\n",
       "      <td>Faculty - Business</td>\n",
       "      <td>2014-02-02</td>\n",
       "      <td>NaT</td>\n",
       "      <td>Full Time</td>\n",
       "      <td>Business</td>\n",
       "      <td>Abbas Houda</td>\n",
       "      <td>Masters</td>\n",
       "      <td>Masters</td>\n",
       "      <td>Business</td>\n",
       "      <td>The University of Newcastle</td>\n",
       "      <td>Masters (Business), Bachelor (Hotel Management...</td>\n",
       "      <td>BUS3103 - Internat Busi Globalisation\\nBUS2203...</td>\n",
       "      <td>General Business / Hospitality</td>\n",
       "      <td>7+ years Teaching/Corporate Training experienc...</td>\n",
       "      <td>Industry &amp; Teaching experience</td>\n",
       "    </tr>\n",
       "    <tr>\n",
       "      <th>9</th>\n",
       "      <td>LT9053151</td>\n",
       "      <td>Houda Musa</td>\n",
       "      <td>Liverpool</td>\n",
       "      <td>FA</td>\n",
       "      <td>Faculty - Business</td>\n",
       "      <td>2011-03-20</td>\n",
       "      <td>NaT</td>\n",
       "      <td>Full Time</td>\n",
       "      <td>Business</td>\n",
       "      <td>Abbas Houda</td>\n",
       "      <td>Bachelor</td>\n",
       "      <td>Bachelor of Applied Science</td>\n",
       "      <td>Business Adm (General)</td>\n",
       "      <td>University College London</td>\n",
       "      <td>Bachelor of Applied Science (Business Adm (Gen...</td>\n",
       "      <td>BUS4956 - Integrative Industry Project</td>\n",
       "      <td>Business</td>\n",
       "      <td>Taught 1 business course (1 semester) \\nHave b...</td>\n",
       "      <td>Industry &amp; Teaching experience</td>\n",
       "    </tr>\n",
       "  </tbody>\n",
       "</table>\n",
       "</div>"
      ],
      "text/plain": [
       "          ID            Name   Location  Grade                       Title  \\\n",
       "0  LT9210743      Jim Hunter     London     FA          Faculty - Business   \n",
       "1  LT9001784      Jose Nadal     London     FA          Faculty - Business   \n",
       "2  LT9062955   Pierre Cornet     London     FA          Faculty - Business   \n",
       "3          0     Sally Smith     London     FA          Faculty - Business   \n",
       "4          0    Ned Shearer      London  Chair          Faculty - Business   \n",
       "5  LT9329000     Bill Lister  Liverpool     FA          Faculty - Business   \n",
       "6  LT9308851    Phil Woodley  Liverpool     FA  Faculty - Business (Admin)   \n",
       "7  LT9231337  Terry Hamilton  Liverpool     FA          Faculty - Business   \n",
       "8  LT9280242       Raj Patel  Liverpool     FA          Faculty - Business   \n",
       "9  LT9053151      Houda Musa  Liverpool     FA          Faculty - Business   \n",
       "\n",
       "  Join\\nDate LWD       Type   Divison     Reports To  \\\n",
       "0 2010-08-29 NaT  Full Time  Business    Abbas Houda   \n",
       "1 1999-08-19 NaT  Full Time  Business    Abbas Houda   \n",
       "2 2007-04-08 NaT  Full Time  Business    Abbas Houda   \n",
       "3 2016-08-14 NaT  Full Time  Business    Abbas Houda   \n",
       "4 2016-08-14 NaT  Full Time  Business  Tony Emmanuel   \n",
       "5 2015-08-10 NaT  Full Time  Business    Abbas Houda   \n",
       "6 2015-03-08 NaT  Full Time  Business    Abbas Houda   \n",
       "7 2011-08-14 NaT  Full Time  Business    Abbas Houda   \n",
       "8 2014-02-02 NaT  Full Time  Business    Abbas Houda   \n",
       "9 2011-03-20 NaT  Full Time  Business    Abbas Houda   \n",
       "\n",
       "  Highest\\nQualification\\nLevel  \\\n",
       "0                       Masters   \n",
       "1                       Masters   \n",
       "2                       Masters   \n",
       "3                          Ph.D   \n",
       "4                          Ph.D   \n",
       "5                     Doctorate   \n",
       "6                       Masters   \n",
       "7                     Doctorate   \n",
       "8                       Masters   \n",
       "9                      Bachelor   \n",
       "\n",
       "                           Highest Qualification  \\\n",
       "0                                 Master of Arts   \n",
       "1                              Master of Science   \n",
       "2                 Master of Business Administrat   \n",
       "3         Ph.D in HRM/ Organizational pyschology   \n",
       "4  Ph.D in Economics and International Business    \n",
       "5                                           Ph.D   \n",
       "6                                        Masters   \n",
       "7                    Doctorate in Business Admin   \n",
       "8                                        Masters   \n",
       "9                    Bachelor of Applied Science   \n",
       "\n",
       "                                   Major                     University  \\\n",
       "0                  International Affairs  American University of Beirut   \n",
       "1              Business Info. Technology      University of Northumbria   \n",
       "2                              Marketing            Griffith University   \n",
       "3         HRM/ Organizational Psychology  The University of Swansea, UK   \n",
       "4  Economics and International Business        New York University, USA   \n",
       "5                Business Administration        Swiss Management Center   \n",
       "6                  Health Administration           University of Ottawa   \n",
       "7                               Business      Lyceum Of The Philippines   \n",
       "8                               Business    The University of Newcastle   \n",
       "9                 Business Adm (General)      University College London   \n",
       "\n",
       "                     All Qualifications from Profile  \\\n",
       "0  Bachelor of Science (Communications), Master o...   \n",
       "1  Bachelor of Arts (Finance), Certificate (Manag...   \n",
       "2  Certificate (Educating/Teaching Adult), Associ...   \n",
       "3  Bachelor(finance & Mgt), Masters(MBA & Masters...   \n",
       "4  Bachelor( Economics), Masters( Economics and I...   \n",
       "5  Ph.D (Business Administration), Master of Busi...   \n",
       "6  Bachelor (Accounting & Finance), Masters (Heal...   \n",
       "7  Bachelor of Science (Accountancy), Master of M...   \n",
       "8  Masters (Business), Bachelor (Hotel Management...   \n",
       "9  Bachelor of Applied Science (Business Adm (Gen...   \n",
       "\n",
       "                         Courses Taught- Term 201510  \\\n",
       "0  BUS2403 - Innovation & Entrepreneurship\\nBUS20...   \n",
       "1  BUS4173 - Managerial Accounting II\\nBUS4916 - ...   \n",
       "2  BUS3903 - Contemporary Business\\nBUS1303 - Mar...   \n",
       "3  HRM, Organizational behaviour, Strategic Mgt, ...   \n",
       "4  Micro and Macroeconomics, Statistics,Introduct...   \n",
       "5  BUS3103 - Internat Busi Globalisation\\nBUS1303...   \n",
       "6  BUS2403 - Innovation & Entrepreneurship\\nBUS23...   \n",
       "7  BUS4956 - Integrative Industry Project\\nBUS390...   \n",
       "8  BUS3103 - Internat Busi Globalisation\\nBUS2203...   \n",
       "9             BUS4956 - Integrative Industry Project   \n",
       "\n",
       "                        MAJOR TEACHING FIELD  \\\n",
       "0                    Business Administration   \n",
       "1                                   Business   \n",
       "2        Marketing and Strategic Management    \n",
       "3                                        HRM   \n",
       "4      Economics and International Business    \n",
       "5                                        NaN   \n",
       "6                                        NaN   \n",
       "7  Business Management\\nCorporate Governance   \n",
       "8             General Business / Hospitality   \n",
       "9                                  Business    \n",
       "\n",
       "  DOCUMENT OTHER PROFESSIONAL CERTIFICATION CRITIERA Five Years Work Experience Teaching Excellence Professional Certifications  \\\n",
       "0  10+ Years Small Business Ownership, 10+ Years ...                                                                              \n",
       "1  years of teaching experience: 17              ...                                                                              \n",
       "2  Years of teaching experience: 15\\nYears of pro...                                                                              \n",
       "3  6 years professional experience + 6 years teac...                                                                              \n",
       "4  1 year professional experience + 24 years teac...                                                                              \n",
       "5                                                NaN                                                                              \n",
       "6                                                NaN                                                                              \n",
       "7                       11 years teaching experience                                                                              \n",
       "8  7+ years Teaching/Corporate Training experienc...                                                                              \n",
       "9  Taught 1 business course (1 semester) \\nHave b...                                                                              \n",
       "\n",
       "                            Criteria  \n",
       "0     Industry & Teaching experience  \n",
       "1                      Certification  \n",
       "2     Industry & Teaching experience  \n",
       "3                         Researcher  \n",
       "4  Researcher/Curriculum Development  \n",
       "5     Industry & Teaching experience  \n",
       "6     Industry & Teaching experience  \n",
       "7     Industry & Teaching experience  \n",
       "8     Industry & Teaching experience  \n",
       "9     Industry & Teaching experience  "
      ]
     },
     "execution_count": 1146,
     "metadata": {},
     "output_type": "execute_result"
    }
   ],
   "source": [
    "df.head(10)"
   ]
  },
  {
   "cell_type": "markdown",
   "metadata": {},
   "source": [
    "Size and dimensions of the df ..... "
   ]
  },
  {
   "cell_type": "code",
   "execution_count": 1147,
   "metadata": {},
   "outputs": [
    {
     "name": "stdout",
     "output_type": "stream",
     "text": [
      "5396\n",
      "(284, 19)\n",
      "2\n"
     ]
    }
   ],
   "source": [
    "print(df.size)\n",
    "print(df.shape)\n",
    "print(df.ndim)"
   ]
  },
  {
   "cell_type": "markdown",
   "metadata": {},
   "source": [
    "Types of each column ..."
   ]
  },
  {
   "cell_type": "code",
   "execution_count": 1148,
   "metadata": {},
   "outputs": [
    {
     "data": {
      "text/plain": [
       "ID                                                                                                                                       object\n",
       "Name                                                                                                                                     object\n",
       "Location                                                                                                                                 object\n",
       "Grade                                                                                                                                    object\n",
       "Title                                                                                                                                    object\n",
       "Join\\nDate                                                                                                                       datetime64[ns]\n",
       "LWD                                                                                                                              datetime64[ns]\n",
       "Type                                                                                                                                     object\n",
       "Divison                                                                                                                                  object\n",
       "Reports To                                                                                                                               object\n",
       "Highest\\nQualification\\nLevel                                                                                                            object\n",
       "Highest Qualification                                                                                                                    object\n",
       "Major                                                                                                                                    object\n",
       "University                                                                                                                               object\n",
       "All Qualifications from Profile                                                                                                          object\n",
       "Courses Taught- Term 201510                                                                                                              object\n",
       "MAJOR TEACHING FIELD                                                                                                                     object\n",
       "DOCUMENT OTHER PROFESSIONAL CERTIFICATION CRITIERA Five Years Work Experience Teaching Excellence Professional Certifications            object\n",
       "Criteria                                                                                                                                 object\n",
       "dtype: object"
      ]
     },
     "execution_count": 1148,
     "metadata": {},
     "output_type": "execute_result"
    }
   ],
   "source": [
    "df.dtypes"
   ]
  },
  {
   "cell_type": "code",
   "execution_count": 1149,
   "metadata": {},
   "outputs": [
    {
     "name": "stderr",
     "output_type": "stream",
     "text": [
      "<ipython-input-1149-ea8415b8a3ee>:1: FutureWarning: Treating datetime data as categorical rather than numeric in `.describe` is deprecated and will be removed in a future version of pandas. Specify `datetime_is_numeric=True` to silence this warning and adopt the future behavior now.\n",
      "  df.describe()\n",
      "<ipython-input-1149-ea8415b8a3ee>:1: FutureWarning: Treating datetime data as categorical rather than numeric in `.describe` is deprecated and will be removed in a future version of pandas. Specify `datetime_is_numeric=True` to silence this warning and adopt the future behavior now.\n",
      "  df.describe()\n"
     ]
    },
    {
     "data": {
      "text/html": [
       "<div>\n",
       "<style scoped>\n",
       "    .dataframe tbody tr th:only-of-type {\n",
       "        vertical-align: middle;\n",
       "    }\n",
       "\n",
       "    .dataframe tbody tr th {\n",
       "        vertical-align: top;\n",
       "    }\n",
       "\n",
       "    .dataframe thead th {\n",
       "        text-align: right;\n",
       "    }\n",
       "</style>\n",
       "<table border=\"1\" class=\"dataframe\">\n",
       "  <thead>\n",
       "    <tr style=\"text-align: right;\">\n",
       "      <th></th>\n",
       "      <th>ID</th>\n",
       "      <th>Name</th>\n",
       "      <th>Location</th>\n",
       "      <th>Grade</th>\n",
       "      <th>Title</th>\n",
       "      <th>Join\\nDate</th>\n",
       "      <th>LWD</th>\n",
       "      <th>Type</th>\n",
       "      <th>Divison</th>\n",
       "      <th>Reports To</th>\n",
       "      <th>Highest\\nQualification\\nLevel</th>\n",
       "      <th>Highest Qualification</th>\n",
       "      <th>Major</th>\n",
       "      <th>University</th>\n",
       "      <th>All Qualifications from Profile</th>\n",
       "      <th>Courses Taught- Term 201510</th>\n",
       "      <th>MAJOR TEACHING FIELD</th>\n",
       "      <th>DOCUMENT OTHER PROFESSIONAL CERTIFICATION CRITIERA Five Years Work Experience Teaching Excellence Professional Certifications</th>\n",
       "      <th>Criteria</th>\n",
       "    </tr>\n",
       "  </thead>\n",
       "  <tbody>\n",
       "    <tr>\n",
       "      <th>count</th>\n",
       "      <td>282.0</td>\n",
       "      <td>284</td>\n",
       "      <td>270</td>\n",
       "      <td>284</td>\n",
       "      <td>284</td>\n",
       "      <td>283</td>\n",
       "      <td>11</td>\n",
       "      <td>284</td>\n",
       "      <td>284</td>\n",
       "      <td>280</td>\n",
       "      <td>278</td>\n",
       "      <td>278</td>\n",
       "      <td>262</td>\n",
       "      <td>278</td>\n",
       "      <td>274</td>\n",
       "      <td>273</td>\n",
       "      <td>225</td>\n",
       "      <td>222</td>\n",
       "      <td>284</td>\n",
       "    </tr>\n",
       "    <tr>\n",
       "      <th>unique</th>\n",
       "      <td>243.0</td>\n",
       "      <td>282</td>\n",
       "      <td>16</td>\n",
       "      <td>2</td>\n",
       "      <td>12</td>\n",
       "      <td>143</td>\n",
       "      <td>2</td>\n",
       "      <td>1</td>\n",
       "      <td>1</td>\n",
       "      <td>15</td>\n",
       "      <td>18</td>\n",
       "      <td>59</td>\n",
       "      <td>115</td>\n",
       "      <td>214</td>\n",
       "      <td>262</td>\n",
       "      <td>269</td>\n",
       "      <td>143</td>\n",
       "      <td>208</td>\n",
       "      <td>8</td>\n",
       "    </tr>\n",
       "    <tr>\n",
       "      <th>top</th>\n",
       "      <td>0.0</td>\n",
       "      <td>Zikida Koudou</td>\n",
       "      <td>Bristol</td>\n",
       "      <td>FA</td>\n",
       "      <td>Faculty - Business</td>\n",
       "      <td>2016-08-14 00:00:00</td>\n",
       "      <td>2015-12-17 00:00:00</td>\n",
       "      <td>Full Time</td>\n",
       "      <td>Business</td>\n",
       "      <td>Ian Varley</td>\n",
       "      <td>Masters</td>\n",
       "      <td>Master of Business Administrat</td>\n",
       "      <td>Business Administration</td>\n",
       "      <td>University of Wollongong</td>\n",
       "      <td>Master of Business Administrat (Business Admin...</td>\n",
       "      <td>Faculty Trainee/MBA in Progress</td>\n",
       "      <td>General Business</td>\n",
       "      <td>More than 5 years work experience</td>\n",
       "      <td>Industry &amp; Teaching experience</td>\n",
       "    </tr>\n",
       "    <tr>\n",
       "      <th>freq</th>\n",
       "      <td>40.0</td>\n",
       "      <td>2</td>\n",
       "      <td>49</td>\n",
       "      <td>282</td>\n",
       "      <td>252</td>\n",
       "      <td>41</td>\n",
       "      <td>6</td>\n",
       "      <td>284</td>\n",
       "      <td>284</td>\n",
       "      <td>33</td>\n",
       "      <td>157</td>\n",
       "      <td>73</td>\n",
       "      <td>45</td>\n",
       "      <td>8</td>\n",
       "      <td>7</td>\n",
       "      <td>2</td>\n",
       "      <td>19</td>\n",
       "      <td>14</td>\n",
       "      <td>231</td>\n",
       "    </tr>\n",
       "    <tr>\n",
       "      <th>first</th>\n",
       "      <td>NaN</td>\n",
       "      <td>NaN</td>\n",
       "      <td>NaN</td>\n",
       "      <td>NaN</td>\n",
       "      <td>NaN</td>\n",
       "      <td>1989-08-12 00:00:00</td>\n",
       "      <td>2015-12-17 00:00:00</td>\n",
       "      <td>NaN</td>\n",
       "      <td>NaN</td>\n",
       "      <td>NaN</td>\n",
       "      <td>NaN</td>\n",
       "      <td>NaN</td>\n",
       "      <td>NaN</td>\n",
       "      <td>NaN</td>\n",
       "      <td>NaN</td>\n",
       "      <td>NaN</td>\n",
       "      <td>NaN</td>\n",
       "      <td>NaN</td>\n",
       "      <td>NaN</td>\n",
       "    </tr>\n",
       "    <tr>\n",
       "      <th>last</th>\n",
       "      <td>NaN</td>\n",
       "      <td>NaN</td>\n",
       "      <td>NaN</td>\n",
       "      <td>NaN</td>\n",
       "      <td>NaN</td>\n",
       "      <td>2016-08-14 00:00:00</td>\n",
       "      <td>2015-12-22 00:00:00</td>\n",
       "      <td>NaN</td>\n",
       "      <td>NaN</td>\n",
       "      <td>NaN</td>\n",
       "      <td>NaN</td>\n",
       "      <td>NaN</td>\n",
       "      <td>NaN</td>\n",
       "      <td>NaN</td>\n",
       "      <td>NaN</td>\n",
       "      <td>NaN</td>\n",
       "      <td>NaN</td>\n",
       "      <td>NaN</td>\n",
       "      <td>NaN</td>\n",
       "    </tr>\n",
       "  </tbody>\n",
       "</table>\n",
       "</div>"
      ],
      "text/plain": [
       "           ID           Name Location Grade               Title  \\\n",
       "count   282.0            284      270   284                 284   \n",
       "unique  243.0            282       16     2                  12   \n",
       "top       0.0  Zikida Koudou  Bristol    FA  Faculty - Business   \n",
       "freq     40.0              2       49   282                 252   \n",
       "first     NaN            NaN      NaN   NaN                 NaN   \n",
       "last      NaN            NaN      NaN   NaN                 NaN   \n",
       "\n",
       "                 Join\\nDate                  LWD       Type   Divison  \\\n",
       "count                   283                   11        284       284   \n",
       "unique                  143                    2          1         1   \n",
       "top     2016-08-14 00:00:00  2015-12-17 00:00:00  Full Time  Business   \n",
       "freq                     41                    6        284       284   \n",
       "first   1989-08-12 00:00:00  2015-12-17 00:00:00        NaN       NaN   \n",
       "last    2016-08-14 00:00:00  2015-12-22 00:00:00        NaN       NaN   \n",
       "\n",
       "        Reports To Highest\\nQualification\\nLevel  \\\n",
       "count          280                           278   \n",
       "unique          15                            18   \n",
       "top     Ian Varley                       Masters   \n",
       "freq            33                           157   \n",
       "first          NaN                           NaN   \n",
       "last           NaN                           NaN   \n",
       "\n",
       "                 Highest Qualification                    Major  \\\n",
       "count                              278                      262   \n",
       "unique                              59                      115   \n",
       "top     Master of Business Administrat  Business Administration   \n",
       "freq                                73                       45   \n",
       "first                              NaN                      NaN   \n",
       "last                               NaN                      NaN   \n",
       "\n",
       "                      University  \\\n",
       "count                        278   \n",
       "unique                       214   \n",
       "top     University of Wollongong   \n",
       "freq                           8   \n",
       "first                        NaN   \n",
       "last                         NaN   \n",
       "\n",
       "                          All Qualifications from Profile  \\\n",
       "count                                                 274   \n",
       "unique                                                262   \n",
       "top     Master of Business Administrat (Business Admin...   \n",
       "freq                                                    7   \n",
       "first                                                 NaN   \n",
       "last                                                  NaN   \n",
       "\n",
       "            Courses Taught- Term 201510 MAJOR TEACHING FIELD  \\\n",
       "count                               273                  225   \n",
       "unique                              269                  143   \n",
       "top     Faculty Trainee/MBA in Progress     General Business   \n",
       "freq                                  2                   19   \n",
       "first                               NaN                  NaN   \n",
       "last                                NaN                  NaN   \n",
       "\n",
       "       DOCUMENT OTHER PROFESSIONAL CERTIFICATION CRITIERA Five Years Work Experience Teaching Excellence Professional Certifications  \\\n",
       "count                                                 222                                                                              \n",
       "unique                                                208                                                                              \n",
       "top                     More than 5 years work experience                                                                              \n",
       "freq                                                   14                                                                              \n",
       "first                                                 NaN                                                                              \n",
       "last                                                  NaN                                                                              \n",
       "\n",
       "                              Criteria  \n",
       "count                              284  \n",
       "unique                               8  \n",
       "top     Industry & Teaching experience  \n",
       "freq                               231  \n",
       "first                              NaN  \n",
       "last                               NaN  "
      ]
     },
     "execution_count": 1149,
     "metadata": {},
     "output_type": "execute_result"
    }
   ],
   "source": [
    "df.describe()"
   ]
  },
  {
   "cell_type": "markdown",
   "metadata": {},
   "source": [
    "#### Finding Missing Data:\n",
    "1. Heatmap  "
   ]
  },
  {
   "cell_type": "code",
   "execution_count": 1150,
   "metadata": {},
   "outputs": [
    {
     "data": {
      "text/plain": [
       "<AxesSubplot: >"
      ]
     },
     "execution_count": 1150,
     "metadata": {},
     "output_type": "execute_result"
    },
    {
     "data": {
      "image/png": "[encoded data removed]",
      "text/plain": [
       "<Figure size 432x288 with 2 Axes>"
      ]
     },
     "metadata": {
      "needs_background": "light"
     },
     "output_type": "display_data"
    }
   ],
   "source": [
    "cols = df.columns[:19] # first 30 columns\n",
    "colours = ['#000099', '#ffff00'] # specify the colours - yellow is missing. blue is not missing.\n",
    "sns.heatmap(df[cols].isnull(), cmap=sns.color_palette(colours))"
   ]
  },
  {
   "cell_type": "code",
   "execution_count": 1151,
   "metadata": {},
   "outputs": [
    {
     "name": "stdout",
     "output_type": "stream",
     "text": [
      "ID - 1%\n",
      "Name - 0%\n",
      "Location - 5%\n",
      "Grade - 0%\n",
      "Title - 0%\n",
      "Join\n",
      "Date - 0%\n",
      "LWD - 96%\n",
      "Type - 0%\n",
      "Divison - 0%\n",
      "Reports To - 1%\n",
      "Highest\n",
      "Qualification\n",
      "Level - 2%\n",
      "Highest Qualification - 2%\n",
      "Major - 8%\n",
      "University - 2%\n",
      "All Qualifications from Profile - 4%\n",
      "Courses Taught- Term 201510 - 4%\n",
      "MAJOR TEACHING FIELD - 21%\n",
      "DOCUMENT OTHER PROFESSIONAL CERTIFICATION CRITIERA Five Years Work Experience Teaching Excellence Professional Certifications - 22%\n",
      "Criteria - 0%\n"
     ]
    }
   ],
   "source": [
    "# % of missing values: \n",
    "for col in df.columns:\n",
    "    pct_missing = np.mean(df[col].isnull())\n",
    "    print('{} - {}%'.format(col, round(pct_missing*100)))"
   ]
  },
  {
   "cell_type": "code",
   "execution_count": 1152,
   "metadata": {},
   "outputs": [],
   "source": [
    "# first create missing indicator for features with missing data\n",
    "#for col in df.columns:\n",
    "#    missing = df[col].isnull()\n",
    "#    num_missing = np.sum(missing)\n",
    "#    \n",
    "#    if num_missing > 0:  \n",
    "#        print('created missing indicator for: {}'.format(col))\n",
    "#        df1['{}_ismissing'.format(col)] = missing#\n",
    "##\n",
    "#\n",
    "# then based on the indicator, plot the histogram of missing values\n",
    "#ismissing_cols = [col for col in df.columns if 'ismissing' in col]\n",
    "#df1['num_missing'] = df1[ismissing_cols].sum(axis=1)\n",
    "#\n",
    "#df1['num_missing'].value_counts().reset_index().sort_values(by='index').plot.bar(x='index', y='num_missing')"
   ]
  },
  {
   "cell_type": "markdown",
   "metadata": {},
   "source": [
    "#### Histogram of 'Location'  \n",
    "Location has 5% missing values - therefore it's nice to have a look: "
   ]
  },
  {
   "cell_type": "code",
   "execution_count": 1153,
   "metadata": {},
   "outputs": [
    {
     "data": {
      "image/png": "[encoded data removed]",
      "text/plain": [
       "<Figure size 1296x576 with 1 Axes>"
      ]
     },
     "metadata": {
      "needs_background": "light"
     },
     "output_type": "display_data"
    }
   ],
   "source": [
    "df.Location = df.Location.astype('str')\n",
    "\n",
    "plt.figure(figsize=(18, 8))\n",
    "plt.hist(df['Location'],color=['forestgreen'])\n",
    "plt.show()"
   ]
  },
  {
   "cell_type": "markdown",
   "metadata": {},
   "source": [
    "#### Locations give us 14 values of nan, and 16 different locations...... "
   ]
  },
  {
   "cell_type": "code",
   "execution_count": 1154,
   "metadata": {},
   "outputs": [
    {
     "name": "stdout",
     "output_type": "stream",
     "text": [
      "Bristol        49\n",
      "Belfast        46\n",
      "Cambridge      34\n",
      "Cardiff        22\n",
      "Manchester     20\n",
      "Liverpool      20\n",
      "Oxford         20\n",
      "Leeds          18\n",
      "Leicester      16\n",
      "nan            14\n",
      "Bolton          6\n",
      "London          5\n",
      "Glasgow         4\n",
      "Birmingham      3\n",
      "Southampton     3\n",
      "Brighton        2\n",
      "Cardiff         2\n",
      "Name: Location, dtype: int64\n"
     ]
    }
   ],
   "source": [
    "print(df['Location'].value_counts())"
   ]
  },
  {
   "cell_type": "code",
   "execution_count": 1155,
   "metadata": {},
   "outputs": [
    {
     "name": "stdout",
     "output_type": "stream",
     "text": [
      "Index(['ID', 'Name', 'Location', 'Grade', 'Title', 'Join\\nDate', 'LWD', 'Type',\n",
      "       'Divison', 'Reports To', 'Highest\\nQualification\\nLevel',\n",
      "       'Highest Qualification', 'Major', 'University',\n",
      "       'All Qualifications from Profile', 'Courses Taught- Term 201510',\n",
      "       'MAJOR TEACHING FIELD',\n",
      "       'DOCUMENT OTHER PROFESSIONAL CERTIFICATION CRITIERA Five Years Work Experience Teaching Excellence Professional Certifications',\n",
      "       'Criteria'],\n",
      "      dtype='object')\n",
      "\n",
      "Number of NaNs in each column : \n",
      "ID                                                                                                                                 2\n",
      "Name                                                                                                                               0\n",
      "Location                                                                                                                           0\n",
      "Grade                                                                                                                              0\n",
      "Title                                                                                                                              0\n",
      "Join\\nDate                                                                                                                         1\n",
      "LWD                                                                                                                              273\n",
      "Type                                                                                                                               0\n",
      "Divison                                                                                                                            0\n",
      "Reports To                                                                                                                         4\n",
      "Highest\\nQualification\\nLevel                                                                                                      6\n",
      "Highest Qualification                                                                                                              6\n",
      "Major                                                                                                                             22\n",
      "University                                                                                                                         6\n",
      "All Qualifications from Profile                                                                                                   10\n",
      "Courses Taught- Term 201510                                                                                                       11\n",
      "MAJOR TEACHING FIELD                                                                                                              59\n",
      "DOCUMENT OTHER PROFESSIONAL CERTIFICATION CRITIERA Five Years Work Experience Teaching Excellence Professional Certifications     62\n",
      "Criteria                                                                                                                           0\n",
      "dtype: int64\n",
      "\n"
     ]
    }
   ],
   "source": [
    "## print (df.columns)\n",
    "col = df.columns\n",
    "print(col)\n",
    "print()\n",
    "print('Number of NaNs in each column : ')\n",
    "print(df[col].isna().sum())\n",
    "print()\n"
   ]
  },
  {
   "cell_type": "markdown",
   "metadata": {},
   "source": [
    "#### A not very successful attempt to identify the number of zeros in each column "
   ]
  },
  {
   "cell_type": "code",
   "execution_count": 1156,
   "metadata": {},
   "outputs": [
    {
     "name": "stdout",
     "output_type": "stream",
     "text": [
      "Number of Zeros in each column : \n",
      "ID                                                                                                                               0\n",
      "Name                                                                                                                             0\n",
      "Location                                                                                                                         0\n",
      "Grade                                                                                                                            0\n",
      "Title                                                                                                                            0\n",
      "Join\\nDate                                                                                                                       0\n",
      "LWD                                                                                                                              0\n",
      "Type                                                                                                                             0\n",
      "Divison                                                                                                                          0\n",
      "Reports To                                                                                                                       0\n",
      "Highest\\nQualification\\nLevel                                                                                                    0\n",
      "Highest Qualification                                                                                                            0\n",
      "Major                                                                                                                            0\n",
      "University                                                                                                                       0\n",
      "All Qualifications from Profile                                                                                                  0\n",
      "Courses Taught- Term 201510                                                                                                      0\n",
      "MAJOR TEACHING FIELD                                                                                                             0\n",
      "DOCUMENT OTHER PROFESSIONAL CERTIFICATION CRITIERA Five Years Work Experience Teaching Excellence Professional Certifications    0\n",
      "Criteria                                                                                                                         0\n",
      "dtype: int64\n"
     ]
    }
   ],
   "source": [
    "print('Number of Zeros in each column : ')\n",
    "print((df[col] == '0').sum())"
   ]
  },
  {
   "cell_type": "markdown",
   "metadata": {},
   "source": [
    "#### Plot 'Grade' feature to see how useful it is ..... "
   ]
  },
  {
   "cell_type": "code",
   "execution_count": 1157,
   "metadata": {},
   "outputs": [
    {
     "data": {
      "image/png": "[encoded data removed]",
      "text/plain": [
       "<Figure size 1296x576 with 1 Axes>"
      ]
     },
     "metadata": {
      "needs_background": "light"
     },
     "output_type": "display_data"
    }
   ],
   "source": [
    "df.Grade = df.Grade.astype('str')\n",
    "\n",
    "plt.figure(figsize=(18, 8))\n",
    "plt.hist(df['Grade'],color=['forestgreen'])\n",
    "plt.show()"
   ]
  },
  {
   "cell_type": "markdown",
   "metadata": {},
   "source": [
    "#### Plot Title column to see how useful it is: "
   ]
  },
  {
   "cell_type": "code",
   "execution_count": 1158,
   "metadata": {},
   "outputs": [
    {
     "data": {
      "image/png": "[encoded data removed]",
      "text/plain": [
       "<Figure size 1296x576 with 1 Axes>"
      ]
     },
     "metadata": {
      "needs_background": "light"
     },
     "output_type": "display_data"
    }
   ],
   "source": [
    "df.Title = df.Title.astype('str')\n",
    "\n",
    "plt.figure(figsize=(18, 8))\n",
    "plt.hist(df['Title'],color=['forestgreen'])\n",
    "plt.show()"
   ]
  },
  {
   "cell_type": "markdown",
   "metadata": {},
   "source": [
    "#### Print out the individual IDs - we find 40 Zero values ....  "
   ]
  },
  {
   "cell_type": "code",
   "execution_count": 1159,
   "metadata": {},
   "outputs": [
    {
     "name": "stdout",
     "output_type": "stream",
     "text": [
      "0            40\n",
      "LT9210743     1\n",
      "LT9017549     1\n",
      "LT9001148     1\n",
      "LT9305052     1\n",
      "             ..\n",
      "LT9308826     1\n",
      "LT9210710     1\n",
      "LT9303893     1\n",
      "LT9328836     1\n",
      "LT9307987     1\n",
      "Name: ID, Length: 243, dtype: int64\n"
     ]
    }
   ],
   "source": [
    "print(df['ID'].value_counts())\n"
   ]
  },
  {
   "cell_type": "markdown",
   "metadata": {},
   "source": [
    "##### Print out the individual names and we find ..... two repeated names .... "
   ]
  },
  {
   "cell_type": "code",
   "execution_count": 1160,
   "metadata": {},
   "outputs": [
    {
     "name": "stdout",
     "output_type": "stream",
     "text": [
      "Zikida Koudou          2\n",
      "Amanda Hobson          2\n",
      "Jim Hunter             1\n",
      "Ebonie Moak            1\n",
      "Drucilla Moos          1\n",
      "                      ..\n",
      "James Orr              1\n",
      "Sebastian Alexander    1\n",
      "Kate Mclocklan         1\n",
      "Nicolas Caisip         1\n",
      "Dessie Burruss         1\n",
      "Name: Name, Length: 282, dtype: int64\n"
     ]
    }
   ],
   "source": [
    "print(df['Name'].value_counts())"
   ]
  },
  {
   "cell_type": "markdown",
   "metadata": {},
   "source": [
    "##### A look at the Title parameter - we find that it seems to be a faculty list - and everyone seems to be in Business!!! "
   ]
  },
  {
   "cell_type": "code",
   "execution_count": 1161,
   "metadata": {},
   "outputs": [
    {
     "name": "stdout",
     "output_type": "stream",
     "text": [
      "Faculty - Business                       252\n",
      "Faculty - Trainee                         13\n",
      "Adjunct Faculty - Business                 9\n",
      "Faculty- Business                          2\n",
      "Faculty - Business (Admin)                 1\n",
      "Faculty-Business (HR & Admin.)             1\n",
      "Faculty - Business                         1\n",
      "Faculty - Business & Comp Lit Faculty      1\n",
      "Faculty-Business                           1\n",
      "Business, Comp & Math Faculty              1\n",
      "Graduate Trainee                           1\n",
      "Faculty - Business & Comp Lit.             1\n",
      "Name: Title, dtype: int64\n"
     ]
    }
   ],
   "source": [
    "print(df['Title'].value_counts())"
   ]
  },
  {
   "cell_type": "markdown",
   "metadata": {},
   "source": [
    "#### Grade only seems to have two categories ..... this could be combined with the information in 'Title' to produce something useful.  "
   ]
  },
  {
   "cell_type": "code",
   "execution_count": 1162,
   "metadata": {},
   "outputs": [
    {
     "name": "stdout",
     "output_type": "stream",
     "text": [
      "FA       282\n",
      "Chair      2\n",
      "Name: Grade, dtype: int64\n"
     ]
    }
   ],
   "source": [
    "print(df['Grade'].value_counts())"
   ]
  },
  {
   "cell_type": "markdown",
   "metadata": {},
   "source": [
    "#### Date Joined has a lot of different values - could this be categorised? Maybe by year?  "
   ]
  },
  {
   "cell_type": "code",
   "execution_count": 1163,
   "metadata": {},
   "outputs": [
    {
     "name": "stdout",
     "output_type": "stream",
     "text": [
      "2016-08-14    41\n",
      "2012-08-26    16\n",
      "2015-08-09    15\n",
      "2014-08-17    11\n",
      "2015-08-23     8\n",
      "              ..\n",
      "2012-09-16     1\n",
      "2012-10-01     1\n",
      "2010-08-31     1\n",
      "2015-09-06     1\n",
      "2009-08-02     1\n",
      "Name: Join\\nDate, Length: 143, dtype: int64\n"
     ]
    }
   ],
   "source": [
    "print(df['Join\\nDate'].value_counts())"
   ]
  },
  {
   "cell_type": "markdown",
   "metadata": {},
   "source": [
    "#### My guess is that LWD - is 'Last Working Day' ??? This means that people with this listing could be removed from the table. "
   ]
  },
  {
   "cell_type": "code",
   "execution_count": 1164,
   "metadata": {},
   "outputs": [
    {
     "name": "stdout",
     "output_type": "stream",
     "text": [
      "2015-12-17    6\n",
      "2015-12-22    5\n",
      "Name: LWD, dtype: int64\n"
     ]
    }
   ],
   "source": [
    "print(df['LWD'].value_counts())"
   ]
  },
  {
   "cell_type": "markdown",
   "metadata": {},
   "source": [
    "#### All of the 'Type' are Full-time ...... This feature could be classed as uninformative.  "
   ]
  },
  {
   "cell_type": "code",
   "execution_count": 1165,
   "metadata": {},
   "outputs": [
    {
     "name": "stdout",
     "output_type": "stream",
     "text": [
      "Full Time    284\n",
      "Name: Type, dtype: int64\n"
     ]
    }
   ],
   "source": [
    "print(df['Type'].value_counts())"
   ]
  },
  {
   "cell_type": "markdown",
   "metadata": {},
   "source": [
    "#### Again the 'Division' feature is all Business ..... This is uninformative and could be removed.  "
   ]
  },
  {
   "cell_type": "code",
   "execution_count": 1166,
   "metadata": {},
   "outputs": [
    {
     "name": "stdout",
     "output_type": "stream",
     "text": [
      "Business    284\n",
      "Name: Divison, dtype: int64\n"
     ]
    }
   ],
   "source": [
    "print(df['Divison'].value_counts())"
   ]
  },
  {
   "cell_type": "markdown",
   "metadata": {},
   "source": [
    "#### 'Reports To column' looks good..... Are all these people in the database? Would it be possible to use the 'ID' feature as an index rather than name? "
   ]
  },
  {
   "cell_type": "code",
   "execution_count": 1167,
   "metadata": {},
   "outputs": [
    {
     "name": "stdout",
     "output_type": "stream",
     "text": [
      "Ian Varley          33\n",
      "Olu Ebenezer        31\n",
      "Rob Jenkins         25\n",
      "Abbas Houda         23\n",
      "Harriet Mensah      23\n",
      "Jayne Radford       23\n",
      "Daphne Keaton       22\n",
      "Orlamei Princess    21\n",
      "Kim Hughes          20\n",
      "Sean Woods          20\n",
      "Betty Adewuyi       19\n",
      "Ian Westwood         9\n",
      "Nick Omotayo         7\n",
      "Tony Emmanuel        3\n",
      "Chris Peters         1\n",
      "Name: Reports To, dtype: int64\n"
     ]
    }
   ],
   "source": [
    "print(df['Reports To'].value_counts())"
   ]
  },
  {
   "cell_type": "markdown",
   "metadata": {},
   "source": [
    "#### 'Highest Qualification level' .... This could be classified as 'Doctorate', 'Masters', 'Bachelors' ...... MBA could be classified under masters.  "
   ]
  },
  {
   "cell_type": "code",
   "execution_count": 1168,
   "metadata": {},
   "outputs": [
    {
     "name": "stdout",
     "output_type": "stream",
     "text": [
      "Masters                                                                     157\n",
      "Doctorate                                                                    52\n",
      "Ph.D                                                                         43\n",
      "Bachelor                                                                     12\n",
      "Masters (Business Administration), Master of Philosophy (Business)            1\n",
      " Doctorate of Business Administration                                         1\n",
      " Ph. D. (Business Administration)                                             1\n",
      "Maters of Philosophy (Economics)                                              1\n",
      "Master's Degree in Public Relations and Press Office Management               1\n",
      "PhD Corporate Governance and Accounting                                       1\n",
      "Master of Business Administration (MBA) and MA (Economics)                    1\n",
      "Bachelor (Applied Science) in Business administration( Human Resources )      1\n",
      "Ph.D in Organization and Management                                           1\n",
      "Master of International Business                                              1\n",
      "MBA                                                                           1\n",
      "Doctor of Jurisprudence Degree                                                1\n",
      "MBA in Banking & Finance                                                      1\n",
      "Ph.D (Economics)                                                              1\n",
      "Name: Highest\\nQualification\\nLevel, dtype: int64\n"
     ]
    }
   ],
   "source": [
    "print(df['Highest\\nQualification\\nLevel'].value_counts())"
   ]
  },
  {
   "cell_type": "markdown",
   "metadata": {},
   "source": [
    "#### Highest Qualification - This seems to include a subject as well. Should use this as a subject column, with the highest qualification previous.    \n",
    "* Classify into subjects?     \n",
    "* I believe that this duplicate information that can be found elsewhere in the table and therefore can be dropped.   \n"
   ]
  },
  {
   "cell_type": "code",
   "execution_count": 1169,
   "metadata": {},
   "outputs": [
    {
     "name": "stdout",
     "output_type": "stream",
     "text": [
      "Master of Business Administrat                                              73\n",
      "Ph.D                                                                        63\n",
      "Master of Science                                                           18\n",
      "Masters                                                                     17\n",
      "Master of Commerce                                                           9\n",
      "Bachelor of Applied Science                                                  9\n",
      "Master of Arts                                                               7\n",
      "Doctorate                                                                    7\n",
      "Ph.D in Business Administration                                              7\n",
      "Executive MBA                                                                5\n",
      "Doctorate in Philosophy                                                      4\n",
      "Master of Philosophy                                                         4\n",
      "Master of Management                                                         3\n",
      "Master of Law                                                                2\n",
      "Master of Business                                                           2\n",
      "MBA                                                                          2\n",
      "MA in International Business                                                 2\n",
      "Master of Education                                                          2\n",
      "Ph.D in Economics                                                            2\n",
      "Masters of Distance Education                                                1\n",
      "International Business &Market                                               1\n",
      "Management Science                                                           1\n",
      "Master of Business Administration (MBA) and MA (Economics)                   1\n",
      "Master of Professional Studies                                               1\n",
      "Mast of Applied Finance                                                      1\n",
      "Ph.D in Education                                                            1\n",
      "Bachelor (Applied Science) in Business administration( Human Resources )     1\n",
      "Ph.D In Middle eastern and Islamic Studies                                   1\n",
      "Economics and Business                                                       1\n",
      "Bachelor                                                                     1\n",
      "Bachelor of Business Admin.                                                  1\n",
      "Master of Education Technology                                               1\n",
      "Masters (Business Administration), Master of Philosophy (Business)           1\n",
      "MA in Teaching                                                               1\n",
      "Ph.D in Business Management                                                  1\n",
      "Master's Degree in Public Relations and Press Office Management              1\n",
      "Maters of Philosophy (Economics)                                             1\n",
      "Master of Strategic HR mgmt.                                                 1\n",
      "Ph.D In Economics                                                            1\n",
      "Bachelor of Science                                                          1\n",
      "Master of International Business                                             1\n",
      "Ph.D in HRM/ Organizational pyschology                                       1\n",
      "Ph.D in Economics and International Business                                 1\n",
      "Doctorate in Business Admin                                                  1\n",
      "Masters in Quality Management                                                1\n",
      "Doctorate in Marketing                                                       1\n",
      "Masters in Engineering                                                       1\n",
      "PhD in Business Administration                                               1\n",
      "PhD In Economic Sciences                                                     1\n",
      "Ph.D In education and Human Resources Studies                                1\n",
      "Master of Marketing                                                          1\n",
      "MA in Accounting                                                             1\n",
      "Ph.D in Accounting                                                           1\n",
      "Ph.D in Management Sciences                                                  1\n",
      "Ph.D in Management                                                           1\n",
      "Master of                                                                    1\n",
      "MA International Business                                                    1\n",
      "Ph.D In Accounting                                                           1\n",
      "Ph.D in Public Policy and Administration                                     1\n",
      "Name: Highest Qualification, dtype: int64\n"
     ]
    }
   ],
   "source": [
    "print(df['Highest Qualification'].value_counts())"
   ]
  },
  {
   "cell_type": "markdown",
   "metadata": {},
   "source": [
    "#### Major - can be used as a subject feature, where the subject of the persons qualification can be found. "
   ]
  },
  {
   "cell_type": "code",
   "execution_count": 1170,
   "metadata": {},
   "outputs": [
    {
     "name": "stdout",
     "output_type": "stream",
     "text": [
      "Business Administration         45\n",
      "Management                      22\n",
      "Economics                        9\n",
      "Marketing                        8\n",
      "Business                         8\n",
      "                                ..\n",
      "Intl Law and Intl Relations      1\n",
      "European Business Studies        1\n",
      "Taxation                         1\n",
      "HRM and Strategic Mgt            1\n",
      "Management and Financial Mgt     1\n",
      "Name: Major, Length: 115, dtype: int64\n"
     ]
    }
   ],
   "source": [
    "print(df['Major'].value_counts())"
   ]
  },
  {
   "cell_type": "markdown",
   "metadata": {},
   "source": [
    "#### University - needs to be cleaned of 'University of' and 'University' - maybe remove countries?? There is a huge range of universities - these could be classified or ranked? Drop this feature? "
   ]
  },
  {
   "cell_type": "code",
   "execution_count": 1171,
   "metadata": {},
   "outputs": [
    {
     "name": "stdout",
     "output_type": "stream",
     "text": [
      "University of Wollongong                  8\n",
      "University of Madras                      5\n",
      "Swiss Management Center                   5\n",
      "University of Leicester                   5\n",
      "Harvard University                        4\n",
      "                                         ..\n",
      "Glasgow Caledonian University             1\n",
      "Vilnius University                        1\n",
      "St. Joseph's University                   1\n",
      "Milano Graduate School of Mang            1\n",
      "Virginia Commonwealth University, USA     1\n",
      "Name: University, Length: 214, dtype: int64\n"
     ]
    }
   ],
   "source": [
    "print(df['University'].value_counts())"
   ]
  },
  {
   "cell_type": "markdown",
   "metadata": {},
   "source": [
    "#### This is a list of all the qualifications from persons profile. Can we assume that if they have a doctorite that they also have masters and bachelors degrees? Is this duplicate data? "
   ]
  },
  {
   "cell_type": "code",
   "execution_count": 1172,
   "metadata": {},
   "outputs": [
    {
     "name": "stdout",
     "output_type": "stream",
     "text": [
      "Master of Business Administrat (Business Administration)                                                     7\n",
      "Bachelor of Applied Science (Business Adm (Hum Resources)), Higher Diploma (Business Adm (Hum Resources))    2\n",
      "Bachelor of Commerce (Commerce), Master of Business Administrat (Business Administration)                    2\n",
      "Bachelor(Economics), Masters( Economics)                                                                     2\n",
      "Bachelor of Applied Science (Information Management), Higher Diploma (Info. Admin. Concentration)            2\n",
      "                                                                                                            ..\n",
      "Masters (Finance), Bachelor (Economics)                                                                      1\n",
      "Bachelor(Banking and Monetary Economics), Masters( Banking and Monetary Economics)                           1\n",
      "Bachelor(Accounting), Masters(Accounting & Finance)                                                          1\n",
      "Bachelor(Finance), Masters( MBA)                                                                             1\n",
      "Bachelor( Civil Engineering), Masters(Civil Engineering and MBA)                                             1\n",
      "Name: All Qualifications from Profile, Length: 262, dtype: int64\n"
     ]
    }
   ],
   "source": [
    "print(df['All Qualifications from Profile'].value_counts())"
   ]
  },
  {
   "cell_type": "markdown",
   "metadata": {},
   "source": [
    "#### Taught courses feature - I would like this to just have the course codes.....  "
   ]
  },
  {
   "cell_type": "code",
   "execution_count": 1173,
   "metadata": {},
   "outputs": [
    {
     "name": "stdout",
     "output_type": "stream",
     "text": [
      "Faculty Trainee/MBA in Progress                                                                                                                              2\n",
      "BUS1203 - Software Apps for Business                                                                                                                         2\n",
      "BUS3406 - Work Related Learning\\nBUS1003 - Management and Leadership                                                                                         2\n",
      "BUS4373 - Strategic HRM\\nBUS3203 - Strat Mgt Busi Simulation                                                                                                 2\n",
      "BUS2403 - Innovation & Entrepreneurship\\nBUS2003 - Business and Commercial Law\\nLSG2013 - Globalization, Media & Soc\\nBUS1003 - Management and Leadership    1\n",
      "                                                                                                                                                            ..\n",
      "Financial Derivatives, Investment, Isalmic financial system,                                                                                                 1\n",
      "Auditing, Islamic Accounting, Financial Accounting, Cost & managerial Accounting                                                                             1\n",
      "Introduction to HRM, Performance Mgt, HR Strategic Mgt                                                                                                       1\n",
      "HRM, Organizational Behaviour, Strategic Mgt, Entrepreneurship                                                                                               1\n",
      "Leadership, Organizational Design and Behaviour, Investments, corporate Finance                                                                              1\n",
      "Name: Courses Taught- Term 201510, Length: 269, dtype: int64\n"
     ]
    }
   ],
   "source": [
    "print(df['Courses Taught- Term 201510'].value_counts())"
   ]
  },
  {
   "cell_type": "markdown",
   "metadata": {},
   "source": [
    "#### 'Major Teaching Field' - includes 143 different values.  "
   ]
  },
  {
   "cell_type": "code",
   "execution_count": 1174,
   "metadata": {},
   "outputs": [
    {
     "name": "stdout",
     "output_type": "stream",
     "text": [
      "General Business                                            19\n",
      "Management                                                  10\n",
      "Management                                                  10\n",
      "Accounting                                                   9\n",
      "HRM                                                          7\n",
      "                                                            ..\n",
      "Strategic Mgt, Supply chain, Innovation, Marketing           1\n",
      "HRM, Quality and Tourism                                     1\n",
      "Management Science                                           1\n",
      "Business Adminstration/Finance and Investment Management     1\n",
      "Financial Mgt, Project Mgt, Entrepreneurial Finance          1\n",
      "Name: MAJOR TEACHING FIELD, Length: 143, dtype: int64\n"
     ]
    }
   ],
   "source": [
    "print(df['MAJOR TEACHING FIELD'].value_counts())"
   ]
  },
  {
   "cell_type": "markdown",
   "metadata": {},
   "source": [
    "#### 'Document Other ....' field is packed with information, and is a like a table in itself. \n",
    "* This could be cleared of non-alphabet characters and used in ML \n",
    "* 21% of the fields are missing - this could be replaced by 'None' "
   ]
  },
  {
   "cell_type": "code",
   "execution_count": 1175,
   "metadata": {},
   "outputs": [
    {
     "name": "stdout",
     "output_type": "stream",
     "text": [
      "More than 5 years work experience                                                                                                                                                                                                                                                                                                                                     14\n",
      "14 years teaching experience                                                                                                                                                                                                                                                                                                                                           2\n",
      "10+ Years Small Business Ownership, 10+ Years SME Consulting, 10+ Years Corporate/Vocational Business Training, 8 Years Teaching Experience                                                                                                                                                                                                                            1\n",
      "20 Years Teaching Experience.  ICDL Certified Professional Trainer (CTPP) - GCC Foundations.  Leadership and Training Certified Trainer - Phi Theta Kapa International Honor Society - USA.  Vocational and Educational Training (VET) Assessment Module, Certificate IV Workplace Training - Australia.  Khalifa Fund Entrepreneurs Trainer,  Khalifa Fund - UAE.     1\n",
      "15 years of professional/management experience, 8 years of teaching experience, CELTA, ICI Practitioner                                                                                                                                                                                                                                                                1\n",
      "                                                                                                                                                                                                                                                                                                                                                                      ..\n",
      "years of teaching experience: 13 years of professional/management experience: 5                                                                                                                                                                                                                                                                                        1\n",
      "Six Sigma, \\nyears of teaching experience: 12 years of professional/management experience: 9                                                                                                                                                                                                                                                                           1\n",
      "years of teaching experience: 12years of professional/management experience: 15                                                                                                                                                                                                                                                                                        1\n",
      "2 years professional experience + 13 teaching experience and active researcher. Curriculum development experience. Certifications- Certified Islamic Finance Expert, Certificate Takaful Professional, Certificate Isalmic Finance Executive                                                                                                                           1\n",
      "16 years professional experience +11 year teaching and active researcher. Accreditation background                                                                                                                                                                                                                                                                     1\n",
      "Name: DOCUMENT OTHER PROFESSIONAL CERTIFICATION CRITIERA Five Years Work Experience Teaching Excellence Professional Certifications, Length: 208, dtype: int64\n"
     ]
    }
   ],
   "source": [
    "print(df['DOCUMENT OTHER PROFESSIONAL CERTIFICATION CRITIERA Five Years Work Experience Teaching Excellence Professional Certifications'].value_counts())"
   ]
  },
  {
   "cell_type": "markdown",
   "metadata": {},
   "source": [
    "#### 'Criteria' relates to the previous column? This can be cleaned into 4 classes 'Experience', 'Certification', 'Researcher' and 'Trainee' "
   ]
  },
  {
   "cell_type": "code",
   "execution_count": 1176,
   "metadata": {},
   "outputs": [
    {
     "name": "stdout",
     "output_type": "stream",
     "text": [
      "Industry & Teaching experience                     231\n",
      "Certification                                       27\n",
      "Researcher                                          15\n",
      "Researcher/Curriculum Development                    4\n",
      "Certification/Curriculum Development                 3\n",
      "Trainee                                              2\n",
      "Certification/Researcher/Curriculum Development      1\n",
      "Certification/Researcher                             1\n",
      "Name: Criteria, dtype: int64\n"
     ]
    }
   ],
   "source": [
    "print(df['Criteria'].value_counts())"
   ]
  },
  {
   "cell_type": "markdown",
   "metadata": {},
   "source": [
    "### End of analysis"
   ]
  },
  {
   "cell_type": "markdown",
   "metadata": {},
   "source": [
    "## Data Tidy\n"
   ]
  },
  {
   "cell_type": "code",
   "execution_count": 1177,
   "metadata": {},
   "outputs": [],
   "source": [
    "### Import Seaborn for visualisation: \n",
    "import seaborn as sns"
   ]
  },
  {
   "cell_type": "code",
   "execution_count": 1178,
   "metadata": {},
   "outputs": [
    {
     "name": "stdout",
     "output_type": "stream",
     "text": [
      "(284, 19)\n"
     ]
    },
    {
     "data": {
      "text/plain": [
       "ID                                                                                                                                       object\n",
       "Name                                                                                                                                     object\n",
       "Location                                                                                                                                 object\n",
       "Grade                                                                                                                                    object\n",
       "Title                                                                                                                                    object\n",
       "Join\\nDate                                                                                                                       datetime64[ns]\n",
       "LWD                                                                                                                              datetime64[ns]\n",
       "Type                                                                                                                                     object\n",
       "Divison                                                                                                                                  object\n",
       "Reports To                                                                                                                               object\n",
       "Highest\\nQualification\\nLevel                                                                                                            object\n",
       "Highest Qualification                                                                                                                    object\n",
       "Major                                                                                                                                    object\n",
       "University                                                                                                                               object\n",
       "All Qualifications from Profile                                                                                                          object\n",
       "Courses Taught- Term 201510                                                                                                              object\n",
       "MAJOR TEACHING FIELD                                                                                                                     object\n",
       "DOCUMENT OTHER PROFESSIONAL CERTIFICATION CRITIERA Five Years Work Experience Teaching Excellence Professional Certifications            object\n",
       "Criteria                                                                                                                                 object\n",
       "dtype: object"
      ]
     },
     "execution_count": 1178,
     "metadata": {},
     "output_type": "execute_result"
    }
   ],
   "source": [
    "print(df.shape)\n",
    "df.dtypes"
   ]
  },
  {
   "cell_type": "markdown",
   "metadata": {},
   "source": [
    "#### Rename the columns first: "
   ]
  },
  {
   "cell_type": "code",
   "execution_count": 1179,
   "metadata": {
    "tags": [
     "Rerun"
    ]
   },
   "outputs": [
    {
     "data": {
      "text/html": [
       "<div>\n",
       "<style scoped>\n",
       "    .dataframe tbody tr th:only-of-type {\n",
       "        vertical-align: middle;\n",
       "    }\n",
       "\n",
       "    .dataframe tbody tr th {\n",
       "        vertical-align: top;\n",
       "    }\n",
       "\n",
       "    .dataframe thead th {\n",
       "        text-align: right;\n",
       "    }\n",
       "</style>\n",
       "<table border=\"1\" class=\"dataframe\">\n",
       "  <thead>\n",
       "    <tr style=\"text-align: right;\">\n",
       "      <th></th>\n",
       "      <th>ID</th>\n",
       "      <th>Name</th>\n",
       "      <th>Location</th>\n",
       "      <th>Grade</th>\n",
       "      <th>Title</th>\n",
       "      <th>Date_joined</th>\n",
       "      <th>Date_left</th>\n",
       "      <th>Contract</th>\n",
       "      <th>Divison</th>\n",
       "      <th>Supervisor</th>\n",
       "      <th>Highest_qualification_level</th>\n",
       "      <th>Highest_qualification</th>\n",
       "      <th>Major</th>\n",
       "      <th>University_attended</th>\n",
       "      <th>Qualifications_from_Profile</th>\n",
       "      <th>Courses_Taught_2015</th>\n",
       "      <th>Teaching_subject</th>\n",
       "      <th>Other_experience</th>\n",
       "      <th>Type_of_Experience</th>\n",
       "    </tr>\n",
       "  </thead>\n",
       "  <tbody>\n",
       "    <tr>\n",
       "      <th>0</th>\n",
       "      <td>LT9210743</td>\n",
       "      <td>Jim Hunter</td>\n",
       "      <td>London</td>\n",
       "      <td>FA</td>\n",
       "      <td>Faculty - Business</td>\n",
       "      <td>2010-08-29</td>\n",
       "      <td>NaT</td>\n",
       "      <td>Full Time</td>\n",
       "      <td>Business</td>\n",
       "      <td>Abbas Houda</td>\n",
       "      <td>Masters</td>\n",
       "      <td>Master of Arts</td>\n",
       "      <td>International Affairs</td>\n",
       "      <td>American University of Beirut</td>\n",
       "      <td>Bachelor of Science (Communications), Master o...</td>\n",
       "      <td>BUS2403 - Innovation &amp; Entrepreneurship\\nBUS20...</td>\n",
       "      <td>Business Administration</td>\n",
       "      <td>10+ Years Small Business Ownership, 10+ Years ...</td>\n",
       "      <td>Industry &amp; Teaching experience</td>\n",
       "    </tr>\n",
       "    <tr>\n",
       "      <th>1</th>\n",
       "      <td>LT9001784</td>\n",
       "      <td>Jose Nadal</td>\n",
       "      <td>London</td>\n",
       "      <td>FA</td>\n",
       "      <td>Faculty - Business</td>\n",
       "      <td>1999-08-19</td>\n",
       "      <td>NaT</td>\n",
       "      <td>Full Time</td>\n",
       "      <td>Business</td>\n",
       "      <td>Abbas Houda</td>\n",
       "      <td>Masters</td>\n",
       "      <td>Master of Science</td>\n",
       "      <td>Business Info. Technology</td>\n",
       "      <td>University of Northumbria</td>\n",
       "      <td>Bachelor of Arts (Finance), Certificate (Manag...</td>\n",
       "      <td>BUS4173 - Managerial Accounting II\\nBUS4916 - ...</td>\n",
       "      <td>Business</td>\n",
       "      <td>years of teaching experience: 17              ...</td>\n",
       "      <td>Certification</td>\n",
       "    </tr>\n",
       "    <tr>\n",
       "      <th>2</th>\n",
       "      <td>LT9062955</td>\n",
       "      <td>Pierre Cornet</td>\n",
       "      <td>London</td>\n",
       "      <td>FA</td>\n",
       "      <td>Faculty - Business</td>\n",
       "      <td>2007-04-08</td>\n",
       "      <td>NaT</td>\n",
       "      <td>Full Time</td>\n",
       "      <td>Business</td>\n",
       "      <td>Abbas Houda</td>\n",
       "      <td>Masters</td>\n",
       "      <td>Master of Business Administrat</td>\n",
       "      <td>Marketing</td>\n",
       "      <td>Griffith University</td>\n",
       "      <td>Certificate (Educating/Teaching Adult), Associ...</td>\n",
       "      <td>BUS3903 - Contemporary Business\\nBUS1303 - Mar...</td>\n",
       "      <td>Marketing and Strategic Management</td>\n",
       "      <td>Years of teaching experience: 15\\nYears of pro...</td>\n",
       "      <td>Industry &amp; Teaching experience</td>\n",
       "    </tr>\n",
       "    <tr>\n",
       "      <th>3</th>\n",
       "      <td>0</td>\n",
       "      <td>Sally Smith</td>\n",
       "      <td>London</td>\n",
       "      <td>FA</td>\n",
       "      <td>Faculty - Business</td>\n",
       "      <td>2016-08-14</td>\n",
       "      <td>NaT</td>\n",
       "      <td>Full Time</td>\n",
       "      <td>Business</td>\n",
       "      <td>Abbas Houda</td>\n",
       "      <td>Ph.D</td>\n",
       "      <td>Ph.D in HRM/ Organizational pyschology</td>\n",
       "      <td>HRM/ Organizational Psychology</td>\n",
       "      <td>The University of Swansea, UK</td>\n",
       "      <td>Bachelor(finance &amp; Mgt), Masters(MBA &amp; Masters...</td>\n",
       "      <td>HRM, Organizational behaviour, Strategic Mgt, ...</td>\n",
       "      <td>HRM</td>\n",
       "      <td>6 years professional experience + 6 years teac...</td>\n",
       "      <td>Researcher</td>\n",
       "    </tr>\n",
       "    <tr>\n",
       "      <th>4</th>\n",
       "      <td>0</td>\n",
       "      <td>Ned Shearer</td>\n",
       "      <td>London</td>\n",
       "      <td>Chair</td>\n",
       "      <td>Faculty - Business</td>\n",
       "      <td>2016-08-14</td>\n",
       "      <td>NaT</td>\n",
       "      <td>Full Time</td>\n",
       "      <td>Business</td>\n",
       "      <td>Tony Emmanuel</td>\n",
       "      <td>Ph.D</td>\n",
       "      <td>Ph.D in Economics and International Business</td>\n",
       "      <td>Economics and International Business</td>\n",
       "      <td>New York University, USA</td>\n",
       "      <td>Bachelor( Economics), Masters( Economics and I...</td>\n",
       "      <td>Micro and Macroeconomics, Statistics,Introduct...</td>\n",
       "      <td>Economics and International Business</td>\n",
       "      <td>1 year professional experience + 24 years teac...</td>\n",
       "      <td>Researcher/Curriculum Development</td>\n",
       "    </tr>\n",
       "  </tbody>\n",
       "</table>\n",
       "</div>"
      ],
      "text/plain": [
       "          ID           Name Location  Grade               Title Date_joined  \\\n",
       "0  LT9210743     Jim Hunter   London     FA  Faculty - Business  2010-08-29   \n",
       "1  LT9001784     Jose Nadal   London     FA  Faculty - Business  1999-08-19   \n",
       "2  LT9062955  Pierre Cornet   London     FA  Faculty - Business  2007-04-08   \n",
       "3          0    Sally Smith   London     FA  Faculty - Business  2016-08-14   \n",
       "4          0   Ned Shearer    London  Chair  Faculty - Business  2016-08-14   \n",
       "\n",
       "  Date_left   Contract   Divison     Supervisor Highest_qualification_level  \\\n",
       "0       NaT  Full Time  Business    Abbas Houda                     Masters   \n",
       "1       NaT  Full Time  Business    Abbas Houda                     Masters   \n",
       "2       NaT  Full Time  Business    Abbas Houda                     Masters   \n",
       "3       NaT  Full Time  Business    Abbas Houda                        Ph.D   \n",
       "4       NaT  Full Time  Business  Tony Emmanuel                        Ph.D   \n",
       "\n",
       "                           Highest_qualification  \\\n",
       "0                                 Master of Arts   \n",
       "1                              Master of Science   \n",
       "2                 Master of Business Administrat   \n",
       "3         Ph.D in HRM/ Organizational pyschology   \n",
       "4  Ph.D in Economics and International Business    \n",
       "\n",
       "                                   Major            University_attended  \\\n",
       "0                  International Affairs  American University of Beirut   \n",
       "1              Business Info. Technology      University of Northumbria   \n",
       "2                              Marketing            Griffith University   \n",
       "3         HRM/ Organizational Psychology  The University of Swansea, UK   \n",
       "4  Economics and International Business        New York University, USA   \n",
       "\n",
       "                         Qualifications_from_Profile  \\\n",
       "0  Bachelor of Science (Communications), Master o...   \n",
       "1  Bachelor of Arts (Finance), Certificate (Manag...   \n",
       "2  Certificate (Educating/Teaching Adult), Associ...   \n",
       "3  Bachelor(finance & Mgt), Masters(MBA & Masters...   \n",
       "4  Bachelor( Economics), Masters( Economics and I...   \n",
       "\n",
       "                                 Courses_Taught_2015  \\\n",
       "0  BUS2403 - Innovation & Entrepreneurship\\nBUS20...   \n",
       "1  BUS4173 - Managerial Accounting II\\nBUS4916 - ...   \n",
       "2  BUS3903 - Contemporary Business\\nBUS1303 - Mar...   \n",
       "3  HRM, Organizational behaviour, Strategic Mgt, ...   \n",
       "4  Micro and Macroeconomics, Statistics,Introduct...   \n",
       "\n",
       "                        Teaching_subject  \\\n",
       "0                Business Administration   \n",
       "1                               Business   \n",
       "2    Marketing and Strategic Management    \n",
       "3                                    HRM   \n",
       "4  Economics and International Business    \n",
       "\n",
       "                                    Other_experience  \\\n",
       "0  10+ Years Small Business Ownership, 10+ Years ...   \n",
       "1  years of teaching experience: 17              ...   \n",
       "2  Years of teaching experience: 15\\nYears of pro...   \n",
       "3  6 years professional experience + 6 years teac...   \n",
       "4  1 year professional experience + 24 years teac...   \n",
       "\n",
       "                  Type_of_Experience  \n",
       "0     Industry & Teaching experience  \n",
       "1                      Certification  \n",
       "2     Industry & Teaching experience  \n",
       "3                         Researcher  \n",
       "4  Researcher/Curriculum Development  "
      ]
     },
     "execution_count": 1179,
     "metadata": {},
     "output_type": "execute_result"
    }
   ],
   "source": [
    "### Run the notebook up to this point for a fresh matrix ... \n",
    "df.columns = ['ID',\t'Name',\t'Location',\t'Grade', 'Title', 'Date_joined','Date_left', 'Contract', 'Divison', 'Supervisor', 'Highest_qualification_level', 'Highest_qualification', 'Major',\t'University_attended', 'Qualifications_from_Profile', 'Courses_Taught_2015', 'Teaching_subject', 'Other_experience','Type_of_Experience']\n",
    "df.head(5)"
   ]
  },
  {
   "cell_type": "markdown",
   "metadata": {},
   "source": [
    "### Step 1 - remove any data that is duplicated/ uninformative or unneccessary"
   ]
  },
  {
   "cell_type": "markdown",
   "metadata": {},
   "source": [
    "#### Column 4: Grade \n",
    "* Move the chair values to the 'title' column and drop.  "
   ]
  },
  {
   "cell_type": "code",
   "execution_count": 1180,
   "metadata": {},
   "outputs": [
    {
     "name": "stdout",
     "output_type": "stream",
     "text": [
      "    ID             Name Location  Grade               Title Date_joined  \\\n",
      "4    0     Ned Shearer    London  Chair  Faculty - Business  2016-08-14   \n",
      "201  0  Celesta Kinne      Leeds  Chair  Faculty - Business  2016-08-14   \n",
      "\n",
      "    Date_left   Contract   Divison     Supervisor Highest_qualification_level  \\\n",
      "4         NaT  Full Time  Business  Tony Emmanuel                        Ph.D   \n",
      "201       NaT  Full Time  Business  Tony Emmanuel                        Ph.D   \n",
      "\n",
      "                             Highest_qualification  \\\n",
      "4    Ph.D in Economics and International Business    \n",
      "201                                           Ph.D   \n",
      "\n",
      "                                     Major       University_attended  \\\n",
      "4    Economics and International Business   New York University, USA   \n",
      "201                    Management Sciences    Walden University, USA   \n",
      "\n",
      "                           Qualifications_from_Profile  \\\n",
      "4    Bachelor( Economics), Masters( Economics and I...   \n",
      "201              Bachelor(Library Arts), Masters( MBA)   \n",
      "\n",
      "                                   Courses_Taught_2015  \\\n",
      "4    Micro and Macroeconomics, Statistics,Introduct...   \n",
      "201                         HRM and Management courses   \n",
      "\n",
      "                          Teaching_subject  \\\n",
      "4    Economics and International Business    \n",
      "201                             Management   \n",
      "\n",
      "                                      Other_experience  \\\n",
      "4    1 year professional experience + 24 years teac...   \n",
      "201  6 years professional experience + 21 years tec...   \n",
      "\n",
      "                    Type_of_Experience  \n",
      "4    Researcher/Curriculum Development  \n",
      "201  Researcher/Curriculum Development  \n"
     ]
    }
   ],
   "source": [
    "chair_rows = df[df['Grade'] == 'Chair']\n",
    "print(chair_rows)\n"
   ]
  },
  {
   "cell_type": "code",
   "execution_count": 1182,
   "metadata": {},
   "outputs": [
    {
     "name": "stdout",
     "output_type": "stream",
     "text": [
      "Faculty - Business                       250\n",
      "Faculty - Trainee                         13\n",
      "Adjunct Faculty - Business                 9\n",
      "Chair                                      2\n",
      "Faculty- Business                          2\n",
      "Faculty - Business (Admin)                 1\n",
      "Faculty-Business (HR & Admin.)             1\n",
      "Faculty - Business                         1\n",
      "Faculty - Business & Comp Lit Faculty      1\n",
      "Faculty-Business                           1\n",
      "Business, Comp & Math Faculty              1\n",
      "Graduate Trainee                           1\n",
      "Faculty - Business & Comp Lit.             1\n",
      "Name: Title, dtype: int64\n"
     ]
    }
   ],
   "source": [
    "##### We can use the two values - and transfer that information to the 'Title' feature: \n",
    "df.loc[4, 'Title' ] = 'Chair'\n",
    "df.loc[201, 'Title' ] = 'Chair'\n",
    "\n",
    "### QC the Title column\n",
    "\n",
    "print(df['Title'].value_counts())\n"
   ]
  },
  {
   "cell_type": "code",
   "execution_count": 1183,
   "metadata": {},
   "outputs": [],
   "source": [
    "## Drop this column as all the values are the same:\n",
    "df.drop(['Grade'], axis=1, inplace=True)"
   ]
  },
  {
   "cell_type": "markdown",
   "metadata": {},
   "source": [
    "#### Column 5: Title\n",
    "We can set this as three classes - trainee / full-time / chairman "
   ]
  },
  {
   "cell_type": "code",
   "execution_count": 1184,
   "metadata": {},
   "outputs": [],
   "source": [
    "import re "
   ]
  },
  {
   "cell_type": "code",
   "execution_count": 1185,
   "metadata": {},
   "outputs": [
    {
     "name": "stdout",
     "output_type": "stream",
     "text": [
      "business    268\n",
      "trainee      14\n",
      "chair         2\n",
      "Name: Title1, dtype: int64\n"
     ]
    }
   ],
   "source": [
    "## First set the Title column to string first:\n",
    "df['Title'] = df['Title'].astype('string')\n",
    "## Set to lower case ...\n",
    "df['Title'] = df['Title'].str.lower()\n",
    "\n",
    "## Extract Trainee / business / chair from column\n",
    "titlist = ('business', 'chair', 'trainee')\n",
    "\n",
    "for x in titlist:\n",
    "    df.loc[df['Title'].str.contains(x, case=False), 'Title1'] = x\n",
    "\n",
    "#Print out counts for Title 1 as QC:\n",
    "print(df['Title1'].value_counts())\n",
    "\n"
   ]
  },
  {
   "cell_type": "code",
   "execution_count": 1186,
   "metadata": {},
   "outputs": [],
   "source": [
    "### Set title column using created Title1 .. Then delete title1 \n",
    "df['Title'] = df['Title1']\n",
    "df.drop(['Title1'], axis=1, inplace=True)"
   ]
  },
  {
   "cell_type": "markdown",
   "metadata": {},
   "source": [
    "#### Column 8: Contract "
   ]
  },
  {
   "cell_type": "code",
   "execution_count": 1187,
   "metadata": {},
   "outputs": [],
   "source": [
    "## Drop this column as all the values are the same:\n",
    "df.drop(columns=['Contract'], inplace=True)"
   ]
  },
  {
   "cell_type": "markdown",
   "metadata": {},
   "source": [
    "#### Column 9: Division"
   ]
  },
  {
   "cell_type": "code",
   "execution_count": 1188,
   "metadata": {},
   "outputs": [],
   "source": [
    "## Drop this column as all the values are the same:\n",
    "df.drop(['Divison'], axis=1, inplace=True)"
   ]
  },
  {
   "cell_type": "markdown",
   "metadata": {},
   "source": [
    "#### Column 12: Highest_qualification"
   ]
  },
  {
   "cell_type": "code",
   "execution_count": 1189,
   "metadata": {},
   "outputs": [],
   "source": [
    "### Delete this column\n",
    "## Drop this column as nearly all the values are different - and therefore not classified\n",
    "df.drop(['Highest_qualification'], axis=1, inplace=True)"
   ]
  },
  {
   "cell_type": "markdown",
   "metadata": {},
   "source": [
    "#### Column 14: University_attended"
   ]
  },
  {
   "cell_type": "code",
   "execution_count": 1190,
   "metadata": {},
   "outputs": [],
   "source": [
    "## Drop this column as nearly all the values are different - and therefore not classified\n",
    "df.drop(['University_attended'], axis=1, inplace=True)"
   ]
  },
  {
   "cell_type": "markdown",
   "metadata": {},
   "source": [
    "#### Column 15: Qualifications_from_Profile"
   ]
  },
  {
   "cell_type": "code",
   "execution_count": 1191,
   "metadata": {},
   "outputs": [],
   "source": [
    "## Drop this column as nearly all the information is duplicated in different columns\n",
    "df.drop(['Qualifications_from_Profile'], axis=1, inplace=True)"
   ]
  },
  {
   "cell_type": "code",
   "execution_count": 1192,
   "metadata": {},
   "outputs": [
    {
     "name": "stderr",
     "output_type": "stream",
     "text": [
      "<ipython-input-1192-ea8415b8a3ee>:1: FutureWarning: Treating datetime data as categorical rather than numeric in `.describe` is deprecated and will be removed in a future version of pandas. Specify `datetime_is_numeric=True` to silence this warning and adopt the future behavior now.\n",
      "  df.describe()\n",
      "<ipython-input-1192-ea8415b8a3ee>:1: FutureWarning: Treating datetime data as categorical rather than numeric in `.describe` is deprecated and will be removed in a future version of pandas. Specify `datetime_is_numeric=True` to silence this warning and adopt the future behavior now.\n",
      "  df.describe()\n"
     ]
    },
    {
     "data": {
      "text/html": [
       "<div>\n",
       "<style scoped>\n",
       "    .dataframe tbody tr th:only-of-type {\n",
       "        vertical-align: middle;\n",
       "    }\n",
       "\n",
       "    .dataframe tbody tr th {\n",
       "        vertical-align: top;\n",
       "    }\n",
       "\n",
       "    .dataframe thead th {\n",
       "        text-align: right;\n",
       "    }\n",
       "</style>\n",
       "<table border=\"1\" class=\"dataframe\">\n",
       "  <thead>\n",
       "    <tr style=\"text-align: right;\">\n",
       "      <th></th>\n",
       "      <th>ID</th>\n",
       "      <th>Name</th>\n",
       "      <th>Location</th>\n",
       "      <th>Title</th>\n",
       "      <th>Date_joined</th>\n",
       "      <th>Date_left</th>\n",
       "      <th>Supervisor</th>\n",
       "      <th>Highest_qualification_level</th>\n",
       "      <th>Major</th>\n",
       "      <th>Courses_Taught_2015</th>\n",
       "      <th>Teaching_subject</th>\n",
       "      <th>Other_experience</th>\n",
       "      <th>Type_of_Experience</th>\n",
       "    </tr>\n",
       "  </thead>\n",
       "  <tbody>\n",
       "    <tr>\n",
       "      <th>count</th>\n",
       "      <td>282.0</td>\n",
       "      <td>284</td>\n",
       "      <td>284</td>\n",
       "      <td>284</td>\n",
       "      <td>283</td>\n",
       "      <td>11</td>\n",
       "      <td>280</td>\n",
       "      <td>278</td>\n",
       "      <td>262</td>\n",
       "      <td>273</td>\n",
       "      <td>225</td>\n",
       "      <td>222</td>\n",
       "      <td>284</td>\n",
       "    </tr>\n",
       "    <tr>\n",
       "      <th>unique</th>\n",
       "      <td>243.0</td>\n",
       "      <td>282</td>\n",
       "      <td>17</td>\n",
       "      <td>3</td>\n",
       "      <td>143</td>\n",
       "      <td>2</td>\n",
       "      <td>15</td>\n",
       "      <td>18</td>\n",
       "      <td>115</td>\n",
       "      <td>269</td>\n",
       "      <td>143</td>\n",
       "      <td>208</td>\n",
       "      <td>8</td>\n",
       "    </tr>\n",
       "    <tr>\n",
       "      <th>top</th>\n",
       "      <td>0.0</td>\n",
       "      <td>Zikida Koudou</td>\n",
       "      <td>Bristol</td>\n",
       "      <td>business</td>\n",
       "      <td>2016-08-14 00:00:00</td>\n",
       "      <td>2015-12-17 00:00:00</td>\n",
       "      <td>Ian Varley</td>\n",
       "      <td>Masters</td>\n",
       "      <td>Business Administration</td>\n",
       "      <td>Faculty Trainee/MBA in Progress</td>\n",
       "      <td>General Business</td>\n",
       "      <td>More than 5 years work experience</td>\n",
       "      <td>Industry &amp; Teaching experience</td>\n",
       "    </tr>\n",
       "    <tr>\n",
       "      <th>freq</th>\n",
       "      <td>40.0</td>\n",
       "      <td>2</td>\n",
       "      <td>49</td>\n",
       "      <td>268</td>\n",
       "      <td>41</td>\n",
       "      <td>6</td>\n",
       "      <td>33</td>\n",
       "      <td>157</td>\n",
       "      <td>45</td>\n",
       "      <td>2</td>\n",
       "      <td>19</td>\n",
       "      <td>14</td>\n",
       "      <td>231</td>\n",
       "    </tr>\n",
       "    <tr>\n",
       "      <th>first</th>\n",
       "      <td>NaN</td>\n",
       "      <td>NaN</td>\n",
       "      <td>NaN</td>\n",
       "      <td>NaN</td>\n",
       "      <td>1989-08-12 00:00:00</td>\n",
       "      <td>2015-12-17 00:00:00</td>\n",
       "      <td>NaN</td>\n",
       "      <td>NaN</td>\n",
       "      <td>NaN</td>\n",
       "      <td>NaN</td>\n",
       "      <td>NaN</td>\n",
       "      <td>NaN</td>\n",
       "      <td>NaN</td>\n",
       "    </tr>\n",
       "    <tr>\n",
       "      <th>last</th>\n",
       "      <td>NaN</td>\n",
       "      <td>NaN</td>\n",
       "      <td>NaN</td>\n",
       "      <td>NaN</td>\n",
       "      <td>2016-08-14 00:00:00</td>\n",
       "      <td>2015-12-22 00:00:00</td>\n",
       "      <td>NaN</td>\n",
       "      <td>NaN</td>\n",
       "      <td>NaN</td>\n",
       "      <td>NaN</td>\n",
       "      <td>NaN</td>\n",
       "      <td>NaN</td>\n",
       "      <td>NaN</td>\n",
       "    </tr>\n",
       "  </tbody>\n",
       "</table>\n",
       "</div>"
      ],
      "text/plain": [
       "           ID           Name Location     Title          Date_joined  \\\n",
       "count   282.0            284      284       284                  283   \n",
       "unique  243.0            282       17         3                  143   \n",
       "top       0.0  Zikida Koudou  Bristol  business  2016-08-14 00:00:00   \n",
       "freq     40.0              2       49       268                   41   \n",
       "first     NaN            NaN      NaN       NaN  1989-08-12 00:00:00   \n",
       "last      NaN            NaN      NaN       NaN  2016-08-14 00:00:00   \n",
       "\n",
       "                  Date_left  Supervisor Highest_qualification_level  \\\n",
       "count                    11         280                         278   \n",
       "unique                    2          15                          18   \n",
       "top     2015-12-17 00:00:00  Ian Varley                     Masters   \n",
       "freq                      6          33                         157   \n",
       "first   2015-12-17 00:00:00         NaN                         NaN   \n",
       "last    2015-12-22 00:00:00         NaN                         NaN   \n",
       "\n",
       "                          Major              Courses_Taught_2015  \\\n",
       "count                       262                              273   \n",
       "unique                      115                              269   \n",
       "top     Business Administration  Faculty Trainee/MBA in Progress   \n",
       "freq                         45                                2   \n",
       "first                       NaN                              NaN   \n",
       "last                        NaN                              NaN   \n",
       "\n",
       "        Teaching_subject                   Other_experience  \\\n",
       "count                225                                222   \n",
       "unique               143                                208   \n",
       "top     General Business  More than 5 years work experience   \n",
       "freq                  19                                 14   \n",
       "first                NaN                                NaN   \n",
       "last                 NaN                                NaN   \n",
       "\n",
       "                    Type_of_Experience  \n",
       "count                              284  \n",
       "unique                               8  \n",
       "top     Industry & Teaching experience  \n",
       "freq                               231  \n",
       "first                              NaN  \n",
       "last                               NaN  "
      ]
     },
     "execution_count": 1192,
     "metadata": {},
     "output_type": "execute_result"
    }
   ],
   "source": [
    "df.describe()"
   ]
  },
  {
   "cell_type": "markdown",
   "metadata": {},
   "source": [
    "### Step 2 - Impute values into the missing data"
   ]
  },
  {
   "cell_type": "markdown",
   "metadata": {},
   "source": [
    "#### Column 1: ID\n",
    "Remove the LT, and set to integer.  \n",
    "Convert 0 to 7 figure value.  \n",
    "Check unique - and then set as index.   "
   ]
  },
  {
   "cell_type": "code",
   "execution_count": 1193,
   "metadata": {},
   "outputs": [
    {
     "data": {
      "text/html": [
       "<div>\n",
       "<style scoped>\n",
       "    .dataframe tbody tr th:only-of-type {\n",
       "        vertical-align: middle;\n",
       "    }\n",
       "\n",
       "    .dataframe tbody tr th {\n",
       "        vertical-align: top;\n",
       "    }\n",
       "\n",
       "    .dataframe thead th {\n",
       "        text-align: right;\n",
       "    }\n",
       "</style>\n",
       "<table border=\"1\" class=\"dataframe\">\n",
       "  <thead>\n",
       "    <tr style=\"text-align: right;\">\n",
       "      <th></th>\n",
       "      <th>ID</th>\n",
       "      <th>Name</th>\n",
       "      <th>Location</th>\n",
       "      <th>Title</th>\n",
       "      <th>Date_joined</th>\n",
       "      <th>Date_left</th>\n",
       "      <th>Supervisor</th>\n",
       "      <th>Highest_qualification_level</th>\n",
       "      <th>Major</th>\n",
       "      <th>Courses_Taught_2015</th>\n",
       "      <th>Teaching_subject</th>\n",
       "      <th>Other_experience</th>\n",
       "      <th>Type_of_Experience</th>\n",
       "    </tr>\n",
       "  </thead>\n",
       "  <tbody>\n",
       "    <tr>\n",
       "      <th>279</th>\n",
       "      <td>0</td>\n",
       "      <td>Cami Wiegand</td>\n",
       "      <td>Cambridge</td>\n",
       "      <td>business</td>\n",
       "      <td>2016-08-14</td>\n",
       "      <td>NaT</td>\n",
       "      <td>Olu Ebenezer</td>\n",
       "      <td>Ph.D</td>\n",
       "      <td>Economics</td>\n",
       "      <td>intro to Economics, EU laws and Regulations, O...</td>\n",
       "      <td>Economics, policy and general business course</td>\n",
       "      <td>9 years professional experience+ 11 years teac...</td>\n",
       "      <td>Researcher</td>\n",
       "    </tr>\n",
       "    <tr>\n",
       "      <th>280</th>\n",
       "      <td>0</td>\n",
       "      <td>Alan Sheely</td>\n",
       "      <td>Cambridge</td>\n",
       "      <td>business</td>\n",
       "      <td>2016-08-14</td>\n",
       "      <td>NaT</td>\n",
       "      <td>Olu Ebenezer</td>\n",
       "      <td>Ph.D</td>\n",
       "      <td>Marketing</td>\n",
       "      <td>Marketing Management, Marketing Research, Cons...</td>\n",
       "      <td>Marketing</td>\n",
       "      <td>16 years professional( consulting) experience ...</td>\n",
       "      <td>Researcher/Curriculum Development</td>\n",
       "    </tr>\n",
       "    <tr>\n",
       "      <th>281</th>\n",
       "      <td>0</td>\n",
       "      <td>Allison Gall</td>\n",
       "      <td>Cambridge</td>\n",
       "      <td>business</td>\n",
       "      <td>2016-08-14</td>\n",
       "      <td>NaT</td>\n",
       "      <td>Olu Ebenezer</td>\n",
       "      <td>Ph.D</td>\n",
       "      <td>HRM</td>\n",
       "      <td>HRM, SHRM, Performance and Reward Mgt, Researc...</td>\n",
       "      <td>HRM</td>\n",
       "      <td>14 years professional experience + 9 years tea...</td>\n",
       "      <td>Certification/Researcher</td>\n",
       "    </tr>\n",
       "    <tr>\n",
       "      <th>282</th>\n",
       "      <td>0</td>\n",
       "      <td>Myles Tena</td>\n",
       "      <td>Cambridge</td>\n",
       "      <td>business</td>\n",
       "      <td>2016-08-14</td>\n",
       "      <td>NaT</td>\n",
       "      <td>Olu Ebenezer</td>\n",
       "      <td>Ph.D</td>\n",
       "      <td>Economic Sociology</td>\n",
       "      <td>Economics and Management</td>\n",
       "      <td>Financial Mgt, Project Mgt, Entrepreneurial Fi...</td>\n",
       "      <td>12 years professional experience + 11 years te...</td>\n",
       "      <td>Researcher</td>\n",
       "    </tr>\n",
       "    <tr>\n",
       "      <th>283</th>\n",
       "      <td>0</td>\n",
       "      <td>Dessie Burruss</td>\n",
       "      <td>Cambridge</td>\n",
       "      <td>business</td>\n",
       "      <td>2016-08-14</td>\n",
       "      <td>NaT</td>\n",
       "      <td>Olu Ebenezer</td>\n",
       "      <td>Ph.D</td>\n",
       "      <td>Management and Financial Mgt</td>\n",
       "      <td>Leadership, Organizational Design and Behaviou...</td>\n",
       "      <td>Finance and Management</td>\n",
       "      <td>16 years professional experience +11 year teac...</td>\n",
       "      <td>Researcher</td>\n",
       "    </tr>\n",
       "  </tbody>\n",
       "</table>\n",
       "</div>"
      ],
      "text/plain": [
       "    ID              Name   Location     Title Date_joined Date_left  \\\n",
       "279  0    Cami Wiegand    Cambridge  business  2016-08-14       NaT   \n",
       "280  0     Alan Sheely    Cambridge  business  2016-08-14       NaT   \n",
       "281  0    Allison Gall    Cambridge  business  2016-08-14       NaT   \n",
       "282  0      Myles Tena    Cambridge  business  2016-08-14       NaT   \n",
       "283  0  Dessie Burruss    Cambridge  business  2016-08-14       NaT   \n",
       "\n",
       "       Supervisor Highest_qualification_level                         Major  \\\n",
       "279  Olu Ebenezer                        Ph.D                     Economics   \n",
       "280  Olu Ebenezer                        Ph.D                     Marketing   \n",
       "281  Olu Ebenezer                        Ph.D                          HRM    \n",
       "282  Olu Ebenezer                        Ph.D            Economic Sociology   \n",
       "283  Olu Ebenezer                        Ph.D  Management and Financial Mgt   \n",
       "\n",
       "                                   Courses_Taught_2015  \\\n",
       "279  intro to Economics, EU laws and Regulations, O...   \n",
       "280  Marketing Management, Marketing Research, Cons...   \n",
       "281  HRM, SHRM, Performance and Reward Mgt, Researc...   \n",
       "282                          Economics and Management    \n",
       "283  Leadership, Organizational Design and Behaviou...   \n",
       "\n",
       "                                      Teaching_subject  \\\n",
       "279      Economics, policy and general business course   \n",
       "280                                          Marketing   \n",
       "281                                                HRM   \n",
       "282  Financial Mgt, Project Mgt, Entrepreneurial Fi...   \n",
       "283                            Finance and Management    \n",
       "\n",
       "                                      Other_experience  \\\n",
       "279  9 years professional experience+ 11 years teac...   \n",
       "280  16 years professional( consulting) experience ...   \n",
       "281  14 years professional experience + 9 years tea...   \n",
       "282  12 years professional experience + 11 years te...   \n",
       "283  16 years professional experience +11 year teac...   \n",
       "\n",
       "                    Type_of_Experience  \n",
       "279                         Researcher  \n",
       "280  Researcher/Curriculum Development  \n",
       "281           Certification/Researcher  \n",
       "282                         Researcher  \n",
       "283                         Researcher  "
      ]
     },
     "execution_count": 1193,
     "metadata": {},
     "output_type": "execute_result"
    }
   ],
   "source": [
    "df.tail()"
   ]
  },
  {
   "cell_type": "code",
   "execution_count": 1194,
   "metadata": {},
   "outputs": [
    {
     "name": "stdout",
     "output_type": "stream",
     "text": [
      "0      9210743\n",
      "1      9001784\n",
      "2      9062955\n",
      "3          NaN\n",
      "4          NaN\n",
      "        ...   \n",
      "279        NaN\n",
      "280        NaN\n",
      "281        NaN\n",
      "282        NaN\n",
      "283        NaN\n",
      "Name: ID1, Length: 284, dtype: object\n"
     ]
    },
    {
     "name": "stderr",
     "output_type": "stream",
     "text": [
      "<ipython-input-1194-380963500855>:2: FutureWarning: The default value of regex will change from True to False in a future version.\n",
      "  df['ID1'] = df['ID'].str.replace(\"^LT\",\"\")\n"
     ]
    }
   ],
   "source": [
    "# df['ID'].str.replace(\"^LT\",\"\")\n",
    "df['ID1'] = df['ID'].str.replace(\"^LT\",\"\")\n",
    "print(df['ID1'])"
   ]
  },
  {
   "cell_type": "code",
   "execution_count": 1195,
   "metadata": {},
   "outputs": [
    {
     "name": "stdout",
     "output_type": "stream",
     "text": [
      "[9500000 9500001 9500002 9500003 9500004 9500005 9500006 9500007 9500008\n",
      " 9500009 9500010 9500011 9500012 9500013 9500014 9500015 9500016 9500017\n",
      " 9500018 9500019 9500020 9500021 9500022 9500023 9500024 9500025 9500026\n",
      " 9500027 9500028 9500029 9500030 9500031 9500032 9500033 9500034 9500035\n",
      " 9500036 9500037 9500038 9500039 9500040 9500041 9500042 9500043 9500044\n",
      " 9500045 9500046]\n"
     ]
    }
   ],
   "source": [
    "## Create series starting at \n",
    "# x = 0\n",
    "n = df['ID1'].isna().sum()\n",
    "x = np.arange(n)\n",
    "x = x + 9500000\n",
    "print(x)\n",
    "# x = pd.Series(x)\n",
    "\n",
    "\n"
   ]
  },
  {
   "cell_type": "code",
   "execution_count": 1196,
   "metadata": {},
   "outputs": [
    {
     "name": "stdout",
     "output_type": "stream",
     "text": [
      "0      9210743\n",
      "1      9001784\n",
      "2      9062955\n",
      "3      9500000\n",
      "4      9500001\n",
      "        ...   \n",
      "279    9500042\n",
      "280    9500043\n",
      "281    9500044\n",
      "282    9500045\n",
      "283    9500046\n",
      "Name: ID1, Length: 284, dtype: object\n"
     ]
    },
    {
     "data": {
      "text/plain": [
       "0"
      ]
     },
     "execution_count": 1196,
     "metadata": {},
     "output_type": "execute_result"
    }
   ],
   "source": [
    "## Fill the NaNs with a unique value starting at 9500000 :\n",
    "df.loc[df.ID1.isna(),'ID1'] = x\n",
    "\n",
    "print(df['ID1'])\n",
    "## Check number of NaNs:\n",
    "df['ID1'].isna().sum()"
   ]
  },
  {
   "cell_type": "code",
   "execution_count": 1197,
   "metadata": {},
   "outputs": [
    {
     "name": "stdout",
     "output_type": "stream",
     "text": [
      "True\n",
      "0      9210743\n",
      "1      9001784\n",
      "2      9062955\n",
      "3      9500000\n",
      "4      9500001\n",
      "        ...   \n",
      "279    9500042\n",
      "280    9500043\n",
      "281    9500044\n",
      "282    9500045\n",
      "283    9500046\n",
      "Name: ID1, Length: 284, dtype: int32\n"
     ]
    }
   ],
   "source": [
    "## Set the column as a integer:\n",
    "df['ID1'] = df['ID1'].astype('int')\n",
    "## Check if ID is unique:\n",
    "print(df['ID1'].is_unique)\n",
    "print(df['ID1'])\n"
   ]
  },
  {
   "cell_type": "code",
   "execution_count": 1198,
   "metadata": {},
   "outputs": [],
   "source": [
    "### Replace ID with ID1 and delete dummy \n",
    "df['ID'] = df['ID1']\n",
    "df.drop(['ID1'], axis=1, inplace=True)"
   ]
  },
  {
   "cell_type": "markdown",
   "metadata": {},
   "source": [
    "#### Column 2: Name"
   ]
  },
  {
   "cell_type": "code",
   "execution_count": 1199,
   "metadata": {},
   "outputs": [
    {
     "data": {
      "text/plain": [
       "0"
      ]
     },
     "execution_count": 1199,
     "metadata": {},
     "output_type": "execute_result"
    }
   ],
   "source": [
    "df['Name'].isna().sum()"
   ]
  },
  {
   "cell_type": "markdown",
   "metadata": {},
   "source": [
    "#### Column 3: Location "
   ]
  },
  {
   "cell_type": "code",
   "execution_count": 1200,
   "metadata": {},
   "outputs": [
    {
     "data": {
      "text/plain": [
       "14"
      ]
     },
     "execution_count": 1200,
     "metadata": {},
     "output_type": "execute_result"
    }
   ],
   "source": [
    "## Replace the nan values with np.NaN\n",
    "df['Location']= df['Location'].replace('nan', np.nan)\n",
    "#print(df['Location'])\n",
    "#print(df['Location'].value_counts())\n",
    "df['Location'].isna().sum()"
   ]
  },
  {
   "cell_type": "code",
   "execution_count": 1201,
   "metadata": {},
   "outputs": [
    {
     "name": "stdout",
     "output_type": "stream",
     "text": [
      "0      12\n",
      "1      12\n",
      "2      12\n",
      "3      12\n",
      "4      12\n",
      "       ..\n",
      "279     5\n",
      "280     5\n",
      "281     5\n",
      "282     5\n",
      "283     5\n",
      "Name: Location_no, Length: 284, dtype: int32\n",
      "0       0\n",
      "1       0\n",
      "2       0\n",
      "3       0\n",
      "4      14\n",
      "       ..\n",
      "279    10\n",
      "280    10\n",
      "281    10\n",
      "282    10\n",
      "283    10\n",
      "Name: Supervisor_no, Length: 284, dtype: int32\n"
     ]
    }
   ],
   "source": [
    "from sklearn import preprocessing\n",
    "## Transform string values into integers: \n",
    "df2 = df[['Location', 'Supervisor']].copy() \n",
    "le = preprocessing.LabelEncoder()\n",
    "le.fit(df2['Location'])\n",
    "df2['Location_no'] = le.transform(df2['Location'])\n",
    "print(df2['Location_no'])\n",
    "le.fit(df2['Supervisor'])\n",
    "df2['Supervisor_no'] = le.transform(df2['Supervisor'])\n",
    "print(df2['Supervisor_no'])"
   ]
  },
  {
   "cell_type": "code",
   "execution_count": 1202,
   "metadata": {},
   "outputs": [
    {
     "data": {
      "text/plain": [
       "<seaborn.axisgrid.FacetGrid at 0x266d00431f0>"
      ]
     },
     "execution_count": 1202,
     "metadata": {},
     "output_type": "execute_result"
    },
    {
     "data": {
      "image/png": "[encoded data removed]",
      "text/plain": [
       "<Figure size 360x360 with 1 Axes>"
      ]
     },
     "metadata": {
      "needs_background": "light"
     },
     "output_type": "display_data"
    }
   ],
   "source": [
    "sns.catplot(data=df2, x=\"Location_no\", y=\"Location\")"
   ]
  },
  {
   "cell_type": "code",
   "execution_count": 1203,
   "metadata": {},
   "outputs": [
    {
     "data": {
      "text/plain": [
       "<seaborn.axisgrid.FacetGrid at 0x266cb15b2e0>"
      ]
     },
     "execution_count": 1203,
     "metadata": {},
     "output_type": "execute_result"
    },
    {
     "data": {
      "image/png": "[encoded data removed]",
      "text/plain": [
       "<Figure size 360x360 with 1 Axes>"
      ]
     },
     "metadata": {
      "needs_background": "light"
     },
     "output_type": "display_data"
    }
   ],
   "source": [
    "#\n",
    "sns.catplot(data=df2, x=\"Location_no\", y=\"Supervisor\")"
   ]
  },
  {
   "cell_type": "code",
   "execution_count": 1204,
   "metadata": {},
   "outputs": [
    {
     "name": "stdout",
     "output_type": "stream",
     "text": [
      "         ID                  Name Location     Title Date_joined Date_left  \\\n",
      "45  9004065         Amanda Hobson      NaN  business  2002-09-16       NaT   \n",
      "46  9302314          Bilal Khalid      NaN  business  2014-08-31       NaT   \n",
      "47  9000673            Akbar Khan      NaN  business  1995-08-14       NaT   \n",
      "48  9308377          Soriyya Khan      NaN  business  2015-02-18       NaT   \n",
      "49  9500004      Bobby Mc Pherson      NaN  business  2016-08-14       NaT   \n",
      "50  9500005        Natasha MC Vey      NaN  business  2016-08-14       NaT   \n",
      "51  9500006  Roxanne  Middleditch      NaN  business  2016-08-14       NaT   \n",
      "52  9500007             Zak Piper      NaN  business  2016-08-14       NaT   \n",
      "53  9500008           June Rayner      NaN  business  2016-08-14       NaT   \n",
      "54  9500009         Sophia Spicer      NaN  business  2016-08-14       NaT   \n",
      "55  9500010           Zoe Spencer      NaN  business  2016-08-14       NaT   \n",
      "56  9500011         Lorenzo Spoto      NaN  business  2016-08-14       NaT   \n",
      "57  9500012         Richard Terry      NaN  business  2016-08-14       NaT   \n",
      "58  9500013          Fawne Vidler      NaN  business  2016-08-14       NaT   \n",
      "\n",
      "     Supervisor Highest_qualification_level  \\\n",
      "45   Ian Varley                   Doctorate   \n",
      "46   Ian Varley                     Masters   \n",
      "47   Ian Varley                     Masters   \n",
      "48   Ian Varley                     Masters   \n",
      "49  Abbas Houda                        Ph.D   \n",
      "50   Ian Varley                        Ph.D   \n",
      "51   Ian Varley                        Ph.D   \n",
      "52   Ian Varley                        Ph.D   \n",
      "53   Ian Varley                        Ph.D   \n",
      "54   Ian Varley                        Ph.D   \n",
      "55   Ian Varley                        Ph.D   \n",
      "56   Ian Varley                        Ph.D   \n",
      "57   Ian Varley                        Ph.D   \n",
      "58   Ian Varley                        Ph.D   \n",
      "\n",
      "                                      Major  \\\n",
      "45                                Marketing   \n",
      "46                     Financial Management   \n",
      "47           Oper. Resch. & Mgt. Info. Sys.   \n",
      "48                     Financial Management   \n",
      "49                                Economics   \n",
      "50                               Economics    \n",
      "51                          HRM and tourism   \n",
      "52  Managerial Economics/ Business Strategy   \n",
      "53                               Management   \n",
      "54    Finance and Islamic Banking & Finance   \n",
      "55                               E-Business   \n",
      "56                       Economics Sciences   \n",
      "57                     Financial Economics    \n",
      "58                    HRM and Strategic Mgt   \n",
      "\n",
      "                                  Courses_Taught_2015  \\\n",
      "45  CSD1023 - The Crime of Smuggling\\nBUS4563 - St...   \n",
      "46  BUS4183 - Corporate Finance\\nLSM1003 - Applied...   \n",
      "47                                                NaN   \n",
      "48  LSS2533 - Research Methods\\nBUS3903 - Contempo...   \n",
      "49  Micro and Macro Economics, Monetary Theory, An...   \n",
      "50  Micro and Macro Economics, Business Stastics, ...   \n",
      "51  HRM, International Business, TQM, Service Qual...   \n",
      "52  International Business, Innovation, strategic ...   \n",
      "53                            Finance and Mgt courses   \n",
      "54  Islamic Risk Mgt, Islamic Insurance, Islamic F...   \n",
      "55  E-Business, International Business, Strategic Mgt   \n",
      "56                    Managerial Economics, Economics   \n",
      "57  Financial Derivatives, Financial Mgt, Corporat...   \n",
      "58  Quality Mgt, HRM Innovation Strategies, Organi...   \n",
      "\n",
      "                                     Teaching_subject  \\\n",
      "45                Business Administration/\\nMarketing   \n",
      "46  Business Adminstration/Finance and Investment ...   \n",
      "47                                 Management Science   \n",
      "48                                                NaN   \n",
      "49                                          Economics   \n",
      "50                                          Economics   \n",
      "51                           HRM, Quality and Tourism   \n",
      "52  Strategic Mgt, Supply chain, Innovation, Marke...   \n",
      "53                            Finance and Management    \n",
      "54                    Islamic Finance and Islamic law   \n",
      "55                             E-Business/ Management   \n",
      "56                                          Economics   \n",
      "57                       Finance and Islamic Finance    \n",
      "58  HRM, Quality and Innovation and Entrepreneurship    \n",
      "\n",
      "                                     Other_experience  \\\n",
      "45  ICDL\\nIRB\\nInstructional Skills Workshops (ISW...   \n",
      "46                        6 years teaching experience   \n",
      "47  29 years teaching experience, ISO 9001: 2008 I...   \n",
      "48                                                NaN   \n",
      "49  28 years professional experience + 3 years tea...   \n",
      "50  5 years professional experience + 9 years teac...   \n",
      "51  5 years professional experience +15 years teac...   \n",
      "52  5 years professional experience + 8 years teac...   \n",
      "53  12 years Professional experience+ 9 years teac...   \n",
      "54    7 years Teaching Experience + active researcher   \n",
      "55  8 years Professional experience+ 5 years teaching   \n",
      "56  10 years professional experience + 5 years tea...   \n",
      "57  14 years professional experience + 20 years te...   \n",
      "58  8 years Professional experience + 10 years tea...   \n",
      "\n",
      "                      Type_of_Experience  \n",
      "45        Industry & Teaching experience  \n",
      "46        Industry & Teaching experience  \n",
      "47                         Certification  \n",
      "48        Industry & Teaching experience  \n",
      "49        Industry & Teaching experience  \n",
      "50        Industry & Teaching experience  \n",
      "51                            Researcher  \n",
      "52                            Researcher  \n",
      "53        Industry & Teaching experience  \n",
      "54                            Researcher  \n",
      "55        Industry & Teaching experience  \n",
      "56        Industry & Teaching experience  \n",
      "57  Certification/Curriculum Development  \n",
      "58                            Researcher  \n"
     ]
    }
   ],
   "source": [
    "### Most of the missing location information comes from Ian Varley who is based in Manchester. \n",
    "print(df[df['Location'].isnull()])"
   ]
  },
  {
   "cell_type": "code",
   "execution_count": 1205,
   "metadata": {},
   "outputs": [],
   "source": [
    "### Set column type as string:\n",
    "df['Location'] = df['Location'].astype('string')\n",
    "### First - remove NaNs and replace with 'None'\n",
    "df['Location'] = df['Location'].fillna('Manchester')"
   ]
  },
  {
   "cell_type": "markdown",
   "metadata": {},
   "source": [
    "#### Column 6: Date_joined\n",
    "* Categorise by year "
   ]
  },
  {
   "cell_type": "code",
   "execution_count": 1249,
   "metadata": {},
   "outputs": [
    {
     "name": "stdout",
     "output_type": "stream",
     "text": [
      "Int64Index([2010, 1999, 2007, 2016, 2016, 2015, 2015, 2011, 2014, 2011,\n",
      "            ...\n",
      "            2015, 2012, 2009, 2015, 2016, 2016, 2016, 2016, 2016, 2016],\n",
      "           dtype='int64', name='Date_joined', length=273)\n"
     ]
    }
   ],
   "source": [
    "# df['Date_joined'].isna().sum()\n",
    "### Choose just the 4 digit year:\n",
    "year = pd.DatetimeIndex(df['Date_joined']).year\n",
    "### Fill missing year with 2016 - most common.  \n",
    "year = year.fillna('2016')\n",
    "year = year.astype('int')\n",
    "print(year)\n"
   ]
  },
  {
   "cell_type": "code",
   "execution_count": 1250,
   "metadata": {},
   "outputs": [],
   "source": [
    "df['Date_joined'] = year"
   ]
  },
  {
   "cell_type": "markdown",
   "metadata": {},
   "source": [
    "#### Column 7: Date_left\n",
    "\n",
    "Drop all the rows that have a value - indicating that the person has left.   \n",
    "Then drop the column   \n"
   ]
  },
  {
   "cell_type": "code",
   "execution_count": 1210,
   "metadata": {},
   "outputs": [
    {
     "name": "stdout",
     "output_type": "stream",
     "text": [
      "Int64Index([19, 21, 41, 72, 99, 101, 214, 245, 258, 259, 261], dtype='int64')\n"
     ]
    },
    {
     "data": {
      "text/html": [
       "<div>\n",
       "<style scoped>\n",
       "    .dataframe tbody tr th:only-of-type {\n",
       "        vertical-align: middle;\n",
       "    }\n",
       "\n",
       "    .dataframe tbody tr th {\n",
       "        vertical-align: top;\n",
       "    }\n",
       "\n",
       "    .dataframe thead th {\n",
       "        text-align: right;\n",
       "    }\n",
       "</style>\n",
       "<table border=\"1\" class=\"dataframe\">\n",
       "  <thead>\n",
       "    <tr style=\"text-align: right;\">\n",
       "      <th></th>\n",
       "      <th>Name</th>\n",
       "      <th>Location</th>\n",
       "      <th>Title</th>\n",
       "      <th>Date_joined</th>\n",
       "      <th>Date_left</th>\n",
       "      <th>Supervisor</th>\n",
       "      <th>Highest_qualification_level</th>\n",
       "      <th>Major</th>\n",
       "      <th>Courses_Taught_2015</th>\n",
       "      <th>Teaching_subject</th>\n",
       "      <th>Other_experience</th>\n",
       "      <th>Type_of_Experience</th>\n",
       "    </tr>\n",
       "    <tr>\n",
       "      <th>ID</th>\n",
       "      <th></th>\n",
       "      <th></th>\n",
       "      <th></th>\n",
       "      <th></th>\n",
       "      <th></th>\n",
       "      <th></th>\n",
       "      <th></th>\n",
       "      <th></th>\n",
       "      <th></th>\n",
       "      <th></th>\n",
       "      <th></th>\n",
       "      <th></th>\n",
       "    </tr>\n",
       "  </thead>\n",
       "  <tbody>\n",
       "    <tr>\n",
       "      <th>9210743</th>\n",
       "      <td>Jim Hunter</td>\n",
       "      <td>London</td>\n",
       "      <td>business</td>\n",
       "      <td>2010-08-29</td>\n",
       "      <td>NaT</td>\n",
       "      <td>Abbas Houda</td>\n",
       "      <td>Masters</td>\n",
       "      <td>International Affairs</td>\n",
       "      <td>BUS2403 - Innovation &amp; Entrepreneurship\\nBUS20...</td>\n",
       "      <td>Business Administration</td>\n",
       "      <td>10+ Years Small Business Ownership, 10+ Years ...</td>\n",
       "      <td>Industry &amp; Teaching experience</td>\n",
       "    </tr>\n",
       "    <tr>\n",
       "      <th>9001784</th>\n",
       "      <td>Jose Nadal</td>\n",
       "      <td>London</td>\n",
       "      <td>business</td>\n",
       "      <td>1999-08-19</td>\n",
       "      <td>NaT</td>\n",
       "      <td>Abbas Houda</td>\n",
       "      <td>Masters</td>\n",
       "      <td>Business Info. Technology</td>\n",
       "      <td>BUS4173 - Managerial Accounting II\\nBUS4916 - ...</td>\n",
       "      <td>Business</td>\n",
       "      <td>years of teaching experience: 17              ...</td>\n",
       "      <td>Certification</td>\n",
       "    </tr>\n",
       "    <tr>\n",
       "      <th>9062955</th>\n",
       "      <td>Pierre Cornet</td>\n",
       "      <td>London</td>\n",
       "      <td>business</td>\n",
       "      <td>2007-04-08</td>\n",
       "      <td>NaT</td>\n",
       "      <td>Abbas Houda</td>\n",
       "      <td>Masters</td>\n",
       "      <td>Marketing</td>\n",
       "      <td>BUS3903 - Contemporary Business\\nBUS1303 - Mar...</td>\n",
       "      <td>Marketing and Strategic Management</td>\n",
       "      <td>Years of teaching experience: 15\\nYears of pro...</td>\n",
       "      <td>Industry &amp; Teaching experience</td>\n",
       "    </tr>\n",
       "    <tr>\n",
       "      <th>9500000</th>\n",
       "      <td>Sally Smith</td>\n",
       "      <td>London</td>\n",
       "      <td>business</td>\n",
       "      <td>2016-08-14</td>\n",
       "      <td>NaT</td>\n",
       "      <td>Abbas Houda</td>\n",
       "      <td>Ph.D</td>\n",
       "      <td>HRM/ Organizational Psychology</td>\n",
       "      <td>HRM, Organizational behaviour, Strategic Mgt, ...</td>\n",
       "      <td>HRM</td>\n",
       "      <td>6 years professional experience + 6 years teac...</td>\n",
       "      <td>Researcher</td>\n",
       "    </tr>\n",
       "    <tr>\n",
       "      <th>9500001</th>\n",
       "      <td>Ned Shearer</td>\n",
       "      <td>London</td>\n",
       "      <td>chair</td>\n",
       "      <td>2016-08-14</td>\n",
       "      <td>NaT</td>\n",
       "      <td>Tony Emmanuel</td>\n",
       "      <td>Ph.D</td>\n",
       "      <td>Economics and International Business</td>\n",
       "      <td>Micro and Macroeconomics, Statistics,Introduct...</td>\n",
       "      <td>Economics and International Business</td>\n",
       "      <td>1 year professional experience + 24 years teac...</td>\n",
       "      <td>Researcher/Curriculum Development</td>\n",
       "    </tr>\n",
       "    <tr>\n",
       "      <th>...</th>\n",
       "      <td>...</td>\n",
       "      <td>...</td>\n",
       "      <td>...</td>\n",
       "      <td>...</td>\n",
       "      <td>...</td>\n",
       "      <td>...</td>\n",
       "      <td>...</td>\n",
       "      <td>...</td>\n",
       "      <td>...</td>\n",
       "      <td>...</td>\n",
       "      <td>...</td>\n",
       "      <td>...</td>\n",
       "    </tr>\n",
       "    <tr>\n",
       "      <th>9500042</th>\n",
       "      <td>Cami Wiegand</td>\n",
       "      <td>Cambridge</td>\n",
       "      <td>business</td>\n",
       "      <td>2016-08-14</td>\n",
       "      <td>NaT</td>\n",
       "      <td>Olu Ebenezer</td>\n",
       "      <td>Ph.D</td>\n",
       "      <td>Economics</td>\n",
       "      <td>intro to Economics, EU laws and Regulations, O...</td>\n",
       "      <td>Economics, policy and general business course</td>\n",
       "      <td>9 years professional experience+ 11 years teac...</td>\n",
       "      <td>Researcher</td>\n",
       "    </tr>\n",
       "    <tr>\n",
       "      <th>9500043</th>\n",
       "      <td>Alan Sheely</td>\n",
       "      <td>Cambridge</td>\n",
       "      <td>business</td>\n",
       "      <td>2016-08-14</td>\n",
       "      <td>NaT</td>\n",
       "      <td>Olu Ebenezer</td>\n",
       "      <td>Ph.D</td>\n",
       "      <td>Marketing</td>\n",
       "      <td>Marketing Management, Marketing Research, Cons...</td>\n",
       "      <td>Marketing</td>\n",
       "      <td>16 years professional( consulting) experience ...</td>\n",
       "      <td>Researcher/Curriculum Development</td>\n",
       "    </tr>\n",
       "    <tr>\n",
       "      <th>9500044</th>\n",
       "      <td>Allison Gall</td>\n",
       "      <td>Cambridge</td>\n",
       "      <td>business</td>\n",
       "      <td>2016-08-14</td>\n",
       "      <td>NaT</td>\n",
       "      <td>Olu Ebenezer</td>\n",
       "      <td>Ph.D</td>\n",
       "      <td>HRM</td>\n",
       "      <td>HRM, SHRM, Performance and Reward Mgt, Researc...</td>\n",
       "      <td>HRM</td>\n",
       "      <td>14 years professional experience + 9 years tea...</td>\n",
       "      <td>Certification/Researcher</td>\n",
       "    </tr>\n",
       "    <tr>\n",
       "      <th>9500045</th>\n",
       "      <td>Myles Tena</td>\n",
       "      <td>Cambridge</td>\n",
       "      <td>business</td>\n",
       "      <td>2016-08-14</td>\n",
       "      <td>NaT</td>\n",
       "      <td>Olu Ebenezer</td>\n",
       "      <td>Ph.D</td>\n",
       "      <td>Economic Sociology</td>\n",
       "      <td>Economics and Management</td>\n",
       "      <td>Financial Mgt, Project Mgt, Entrepreneurial Fi...</td>\n",
       "      <td>12 years professional experience + 11 years te...</td>\n",
       "      <td>Researcher</td>\n",
       "    </tr>\n",
       "    <tr>\n",
       "      <th>9500046</th>\n",
       "      <td>Dessie Burruss</td>\n",
       "      <td>Cambridge</td>\n",
       "      <td>business</td>\n",
       "      <td>2016-08-14</td>\n",
       "      <td>NaT</td>\n",
       "      <td>Olu Ebenezer</td>\n",
       "      <td>Ph.D</td>\n",
       "      <td>Management and Financial Mgt</td>\n",
       "      <td>Leadership, Organizational Design and Behaviou...</td>\n",
       "      <td>Finance and Management</td>\n",
       "      <td>16 years professional experience +11 year teac...</td>\n",
       "      <td>Researcher</td>\n",
       "    </tr>\n",
       "  </tbody>\n",
       "</table>\n",
       "<p>273 rows × 12 columns</p>\n",
       "</div>"
      ],
      "text/plain": [
       "                     Name   Location     Title Date_joined Date_left  \\\n",
       "ID                                                                     \n",
       "9210743        Jim Hunter     London  business  2010-08-29       NaT   \n",
       "9001784        Jose Nadal     London  business  1999-08-19       NaT   \n",
       "9062955     Pierre Cornet     London  business  2007-04-08       NaT   \n",
       "9500000       Sally Smith     London  business  2016-08-14       NaT   \n",
       "9500001      Ned Shearer      London     chair  2016-08-14       NaT   \n",
       "...                   ...        ...       ...         ...       ...   \n",
       "9500042    Cami Wiegand    Cambridge  business  2016-08-14       NaT   \n",
       "9500043     Alan Sheely    Cambridge  business  2016-08-14       NaT   \n",
       "9500044    Allison Gall    Cambridge  business  2016-08-14       NaT   \n",
       "9500045      Myles Tena    Cambridge  business  2016-08-14       NaT   \n",
       "9500046  Dessie Burruss    Cambridge  business  2016-08-14       NaT   \n",
       "\n",
       "            Supervisor Highest_qualification_level  \\\n",
       "ID                                                   \n",
       "9210743    Abbas Houda                     Masters   \n",
       "9001784    Abbas Houda                     Masters   \n",
       "9062955    Abbas Houda                     Masters   \n",
       "9500000    Abbas Houda                        Ph.D   \n",
       "9500001  Tony Emmanuel                        Ph.D   \n",
       "...                ...                         ...   \n",
       "9500042   Olu Ebenezer                        Ph.D   \n",
       "9500043   Olu Ebenezer                        Ph.D   \n",
       "9500044   Olu Ebenezer                        Ph.D   \n",
       "9500045   Olu Ebenezer                        Ph.D   \n",
       "9500046   Olu Ebenezer                        Ph.D   \n",
       "\n",
       "                                         Major  \\\n",
       "ID                                               \n",
       "9210743                  International Affairs   \n",
       "9001784              Business Info. Technology   \n",
       "9062955                              Marketing   \n",
       "9500000         HRM/ Organizational Psychology   \n",
       "9500001  Economics and International Business    \n",
       "...                                        ...   \n",
       "9500042                              Economics   \n",
       "9500043                              Marketing   \n",
       "9500044                                   HRM    \n",
       "9500045                     Economic Sociology   \n",
       "9500046           Management and Financial Mgt   \n",
       "\n",
       "                                       Courses_Taught_2015  \\\n",
       "ID                                                           \n",
       "9210743  BUS2403 - Innovation & Entrepreneurship\\nBUS20...   \n",
       "9001784  BUS4173 - Managerial Accounting II\\nBUS4916 - ...   \n",
       "9062955  BUS3903 - Contemporary Business\\nBUS1303 - Mar...   \n",
       "9500000  HRM, Organizational behaviour, Strategic Mgt, ...   \n",
       "9500001  Micro and Macroeconomics, Statistics,Introduct...   \n",
       "...                                                    ...   \n",
       "9500042  intro to Economics, EU laws and Regulations, O...   \n",
       "9500043  Marketing Management, Marketing Research, Cons...   \n",
       "9500044  HRM, SHRM, Performance and Reward Mgt, Researc...   \n",
       "9500045                          Economics and Management    \n",
       "9500046  Leadership, Organizational Design and Behaviou...   \n",
       "\n",
       "                                          Teaching_subject  \\\n",
       "ID                                                           \n",
       "9210743                            Business Administration   \n",
       "9001784                                           Business   \n",
       "9062955                Marketing and Strategic Management    \n",
       "9500000                                                HRM   \n",
       "9500001              Economics and International Business    \n",
       "...                                                    ...   \n",
       "9500042      Economics, policy and general business course   \n",
       "9500043                                          Marketing   \n",
       "9500044                                                HRM   \n",
       "9500045  Financial Mgt, Project Mgt, Entrepreneurial Fi...   \n",
       "9500046                            Finance and Management    \n",
       "\n",
       "                                          Other_experience  \\\n",
       "ID                                                           \n",
       "9210743  10+ Years Small Business Ownership, 10+ Years ...   \n",
       "9001784  years of teaching experience: 17              ...   \n",
       "9062955  Years of teaching experience: 15\\nYears of pro...   \n",
       "9500000  6 years professional experience + 6 years teac...   \n",
       "9500001  1 year professional experience + 24 years teac...   \n",
       "...                                                    ...   \n",
       "9500042  9 years professional experience+ 11 years teac...   \n",
       "9500043  16 years professional( consulting) experience ...   \n",
       "9500044  14 years professional experience + 9 years tea...   \n",
       "9500045  12 years professional experience + 11 years te...   \n",
       "9500046  16 years professional experience +11 year teac...   \n",
       "\n",
       "                        Type_of_Experience  \n",
       "ID                                          \n",
       "9210743     Industry & Teaching experience  \n",
       "9001784                      Certification  \n",
       "9062955     Industry & Teaching experience  \n",
       "9500000                         Researcher  \n",
       "9500001  Researcher/Curriculum Development  \n",
       "...                                    ...  \n",
       "9500042                         Researcher  \n",
       "9500043  Researcher/Curriculum Development  \n",
       "9500044           Certification/Researcher  \n",
       "9500045                         Researcher  \n",
       "9500046                         Researcher  \n",
       "\n",
       "[273 rows x 12 columns]"
      ]
     },
     "execution_count": 1210,
     "metadata": {},
     "output_type": "execute_result"
    }
   ],
   "source": [
    "# Select rows which do not have NaN value in column 'Date_left'\n",
    "drop_rows = df[~df['Date_left'].isnull()]\n",
    "print(drop_rows.index)\n",
    "df11 = df.drop(drop_rows.index)\n",
    "### Drop the rows indexed above:\n",
    "df.drop(drop_rows.index, axis=0, inplace=True)\n",
    "###Set index as ID \n",
    "df.set_index('ID')\n"
   ]
  },
  {
   "cell_type": "code",
   "execution_count": 1212,
   "metadata": {},
   "outputs": [],
   "source": [
    "## Drop this column as it is devoid of information\n",
    "df.drop(['Date_left'], axis=1, inplace=True)"
   ]
  },
  {
   "cell_type": "markdown",
   "metadata": {},
   "source": [
    "#### Column 10: Supervisor"
   ]
  },
  {
   "cell_type": "code",
   "execution_count": 1213,
   "metadata": {},
   "outputs": [
    {
     "name": "stdout",
     "output_type": "stream",
     "text": [
      "          ID              Name   Location     Title Date_joined Supervisor  \\\n",
      "22   9329002          Mo Abdul  Liverpool  business  2015-08-09        NaN   \n",
      "100  9210710  Kala Jegathjenan    Bristol  business  2010-08-31        NaN   \n",
      "\n",
      "    Highest_qualification_level                      Major  \\\n",
      "22                      Masters  Human Resource Management   \n",
      "100                     Masters                 Accounting   \n",
      "\n",
      "    Courses_Taught_2015 Teaching_subject Other_experience  \\\n",
      "22                  NaN              NaN              NaN   \n",
      "100                 NaN              NaN              NaN   \n",
      "\n",
      "                 Type_of_Experience  \n",
      "22   Industry & Teaching experience  \n",
      "100  Industry & Teaching experience  \n"
     ]
    }
   ],
   "source": [
    "### All supervisors should be linked to location.... \n",
    "### If a person is in a location, then he should have the allocated supervisor. \n",
    "df['Supervisor'].isna().sum()  \n",
    "print(df[df['Supervisor'].isnull()])"
   ]
  },
  {
   "cell_type": "code",
   "execution_count": 1214,
   "metadata": {},
   "outputs": [],
   "source": [
    "### Two locations are Liverpool (Abbas Houda) and Bristol (Nick Omotayo):\n",
    "df.loc[22, 'Supervisor' ] = 'Abbas Houda'\n",
    "df.loc[100, 'Supervisor' ] = 'Nick Omotayo'"
   ]
  },
  {
   "cell_type": "markdown",
   "metadata": {},
   "source": [
    "#### Column 11: Highest_qualification_level"
   ]
  },
  {
   "cell_type": "code",
   "execution_count": 1215,
   "metadata": {},
   "outputs": [
    {
     "name": "stdout",
     "output_type": "stream",
     "text": [
      "Empty DataFrame\n",
      "Columns: [ID, Name, Location, Title, Date_joined, Supervisor, Highest_qualification_level, Major, Courses_Taught_2015, Teaching_subject, Other_experience, Type_of_Experience]\n",
      "Index: []\n",
      "Int64Index([], dtype='int64')\n"
     ]
    }
   ],
   "source": [
    "### Need to classify into 4 classes? \n",
    "df['Highest_qualification_level'].isna().sum()\n",
    "### 6 NaNs to fill in ... \n",
    "null_rows = df[df['Highest_qualification_level'].isnull()]\n",
    "print(null_rows)\n",
    "print(null_rows.index)\n",
    "### None of these people have filled in any details of their qualifications... \n",
    "### Set up NAs as most common - which is masters.. \n",
    "### Set column type as string:\n",
    "df['Highest_qualification_level'] = df['Highest_qualification_level'].astype('string')\n",
    "### First - remove NaNs and replace with 'None'\n",
    "df['Highest_qualification_level'] = df['Highest_qualification_level'].fillna('masters')\n"
   ]
  },
  {
   "cell_type": "code",
   "execution_count": 1224,
   "metadata": {},
   "outputs": [
    {
     "name": "stdout",
     "output_type": "stream",
     "text": [
      "masters      161\n",
      "doctorate     99\n",
      "bachelor      13\n",
      "Name: Highest_qualification_level, dtype: Int64\n"
     ]
    },
    {
     "name": "stderr",
     "output_type": "stream",
     "text": [
      "<ipython-input-1224-acfca259f4cb>:2: FutureWarning: The default value of regex will change from True to False in a future version.\n",
      "  df['Highest_qualification_level'] = df['Highest_qualification_level'].str.replace(r'[^\\w\\s]+', '')\n"
     ]
    }
   ],
   "source": [
    "#print(df['Highest_qualification_level'])\n",
    "## Remove all the punctuation using REGEX\n",
    "df['Highest_qualification_level'] = df['Highest_qualification_level'].str.replace(r'[^\\w\\s]+', '')\n",
    "## Keyword loop: \n",
    "hqllist = ('masters', 'bachelor', 'doctorate', 'phd', 'mba')\n",
    "for x in hqllist:\n",
    "    df.loc[df['Highest_qualification_level'].str.contains(x, case=False), 'Highest_qualification_level'] = x\n",
    "### Complete the clean for individual issues: \n",
    "df.loc[df['Highest_qualification_level'].str.contains('phd', case=False), 'Highest_qualification_level'] = 'doctorate'\n",
    "df.loc[df['Highest_qualification_level'].str.contains('mba', case=False), 'Highest_qualification_level'] = 'masters'\n",
    "df.loc[df['Highest_qualification_level'].str.contains('ma', case=False), 'Highest_qualification_level'] = 'masters'\n",
    "df.loc[df['Highest_qualification_level'].str.contains('doctor', case=False), 'Highest_qualification_level'] = 'doctorate'\n",
    "df.loc[df['Highest_qualification_level'].str.contains('ph d', case=False), 'Highest_qualification_level'] = 'doctorate'\n",
    "print(df['Highest_qualification_level'].value_counts())\n"
   ]
  },
  {
   "cell_type": "markdown",
   "metadata": {},
   "source": [
    "#### Column 13: Major"
   ]
  },
  {
   "cell_type": "code",
   "execution_count": 1225,
   "metadata": {},
   "outputs": [
    {
     "name": "stdout",
     "output_type": "stream",
     "text": [
      "business          84\n",
      "management        72\n",
      "administration    49\n",
      "economics         16\n",
      "accounting        14\n",
      "marketing         12\n",
      "finance           10\n",
      "commerce           8\n",
      "bank               4\n",
      "law                4\n",
      "Name: Major1, dtype: int64\n"
     ]
    }
   ],
   "source": [
    "# df['Major'].isna().sum()\n",
    "# print(df['Major'].unique())\n",
    "## First set the Title column to string first:\n",
    "df['Major'] = df['Major'].astype('string')\n",
    "## Set to lower case ...\n",
    "df['Major'] = df['Major'].str.lower()\n",
    "\n",
    "## Extract keywords from the column\n",
    "majlist = ('business', 'economics', 'finance', 'commerce', 'law', 'administration', 'bank', 'marketing', 'management', 'accounting')\n",
    "df['Major1'] = 'business'\n",
    "for x2 in majlist:\n",
    "    df.loc[df['Major'].str.contains(x2, case=False), 'Major1'] = x2\n",
    "\n",
    "df.loc[df['Major'].str.contains('mgt', case=False), 'Major1'] = 'management'\n",
    "df.loc[df['Major'].str.contains('mba', case=False), 'Major1'] = 'administration'\n",
    "#df.loc[df['Major'].str.contains('finance', case=False), 'Major1'] = 'finance'\n",
    "print(df['Major1'].value_counts())\n"
   ]
  },
  {
   "cell_type": "code",
   "execution_count": 1227,
   "metadata": {},
   "outputs": [],
   "source": [
    "## Use dummy column and then drop\n",
    "df['Major'] = df['Major1']\n",
    "df.drop(['Major1'], axis=1, inplace=True)"
   ]
  },
  {
   "cell_type": "markdown",
   "metadata": {},
   "source": [
    "#### Column 16: Courses_Taught_2015\n",
    "* Only classify the courses through their codes. \n",
    "* Create new columns for each course taught - based on code. "
   ]
  },
  {
   "cell_type": "code",
   "execution_count": 1228,
   "metadata": {},
   "outputs": [
    {
     "name": "stdout",
     "output_type": "stream",
     "text": [
      "0        178\n",
      "BUS13     29\n",
      "BUS15     19\n",
      "BUS14     17\n",
      "BUS12     14\n",
      "BUS10     13\n",
      "BUS11      3\n",
      "Name: Courses_Taught_1, dtype: int64\n",
      "0        184\n",
      "BUS29     19\n",
      "BUS23     17\n",
      "BUS24     16\n",
      "BUS22     14\n",
      "BUS20     12\n",
      "BUS21     11\n",
      "Name: Courses_Taught_2, dtype: int64\n",
      "0        164\n",
      "BUS34     43\n",
      "BUS39     21\n",
      "BUS31     15\n",
      "BUS32     15\n",
      "BUS30     15\n",
      "Name: Courses_Taught_3, dtype: int64\n",
      "0        147\n",
      "BUS45     30\n",
      "BUS41     24\n",
      "BUS49     23\n",
      "BUS43     21\n",
      "BUS46     15\n",
      "BUS42     10\n",
      "BUS48      3\n",
      "Name: Courses_Taught_4, dtype: int64\n"
     ]
    }
   ],
   "source": [
    "#print(df['Courses_Taught_2015'].value_counts())\n",
    "#df['Courses_Taught_2015'].isna().sum()\n",
    "df['Courses_Taught_2015'] = df['Courses_Taught_2015'].astype('string')\n",
    "df['Courses_Taught_1'] = 0\n",
    "df['Courses_Taught_2'] = 0\n",
    "df['Courses_Taught_3'] = 0\n",
    "df['Courses_Taught_4'] = 0\n",
    "listbus1 = ('BUS10','BUS11','BUS12','BUS13','BUS14','BUS15','BUS16','BUS17','BUS18','BUS19')\n",
    "listbus2 = ('BUS20','BUS21','BUS22','BUS23','BUS24','BUS25','BUS26','BUS27','BUS28','BUS29')\n",
    "listbus3 = ('BUS30','BUS31','BUS32','BUS33','BUS34','BUS35','BUS36','BUS37','BUS38','BUS39')\n",
    "listbus4 = ('BUS40','BUS41','BUS42','BUS43','BUS44','BUS45','BUS46','BUS47','BUS48','BUS49')\n",
    "for x in listbus1:\n",
    "    df.loc[df['Courses_Taught_2015'].str.contains(x, case=False), 'Courses_Taught_1'] = x\n",
    "for x in listbus2:\n",
    "    df.loc[df['Courses_Taught_2015'].str.contains(x, case=False), 'Courses_Taught_2'] = x\n",
    "for x in listbus3:\n",
    "    df.loc[df['Courses_Taught_2015'].str.contains(x, case=False), 'Courses_Taught_3'] = x\n",
    "for x in listbus4:\n",
    "    df.loc[df['Courses_Taught_2015'].str.contains(x, case=False), 'Courses_Taught_4'] = x\n",
    "\n",
    "#df['Courses_Taught_1'].str.contains('BUS1', case=False).value_counts()\n",
    "print(df['Courses_Taught_1'].value_counts())\n",
    "print(df['Courses_Taught_2'].value_counts())\n",
    "print(df['Courses_Taught_3'].value_counts())\n",
    "print(df['Courses_Taught_4'].value_counts())\n"
   ]
  },
  {
   "cell_type": "code",
   "execution_count": 1262,
   "metadata": {},
   "outputs": [],
   "source": [
    "df['Courses_Taught_1'] = df['Courses_Taught_1'].astype('string')\n",
    "df['Courses_Taught_2'] = df['Courses_Taught_2'].astype('string')\n",
    "df['Courses_Taught_3'] = df['Courses_Taught_3'].astype('string')\n",
    "df['Courses_Taught_4'] = df['Courses_Taught_4'].astype('string')"
   ]
  },
  {
   "cell_type": "code",
   "execution_count": 1255,
   "metadata": {},
   "outputs": [],
   "source": [
    "## Drop original column\n",
    "df.drop(['Courses_Taught_2015'], axis=1, inplace=True)"
   ]
  },
  {
   "cell_type": "markdown",
   "metadata": {},
   "source": [
    "#### Column 17: Teaching_subject - \n",
    "* This should really only contain one major subject? \n",
    "* 59 NaNs - who don't even know their teaching subject\n",
    "* Filling in 59 NaNs with most common will skew the data ....\n",
    "* Lots have more than one....\n",
    "* Not the most accurate or useful to narrow down to one value for the column \n"
   ]
  },
  {
   "cell_type": "code",
   "execution_count": 1230,
   "metadata": {},
   "outputs": [],
   "source": [
    "from sklearn.impute import SimpleImputer"
   ]
  },
  {
   "cell_type": "code",
   "execution_count": 1231,
   "metadata": {},
   "outputs": [
    {
     "name": "stdout",
     "output_type": "stream",
     "text": [
      "0                                Business Administration\n",
      "1                                               Business\n",
      "2                    Marketing and Strategic Management \n",
      "3                                                    HRM\n",
      "4                  Economics and International Business \n",
      "                             ...                        \n",
      "279        Economics, policy and general business course\n",
      "280                                            Marketing\n",
      "281                                                  HRM\n",
      "282    Financial Mgt, Project Mgt, Entrepreneurial Fi...\n",
      "283                              Finance and Management \n",
      "Name: Teaching_subject, Length: 273, dtype: object\n"
     ]
    }
   ],
   "source": [
    "### Impute most frequent into the NaN values ..\n",
    "imputer = SimpleImputer(strategy='most_frequent', \n",
    "                        missing_values=np.nan)\n",
    "imputer = imputer.fit(df[['Teaching_subject']])\n",
    "df[['Teaching_subject']] = imputer.transform(df[['Teaching_subject']])\n",
    "print(df['Teaching_subject'])"
   ]
  },
  {
   "cell_type": "code",
   "execution_count": 1232,
   "metadata": {},
   "outputs": [
    {
     "data": {
      "text/plain": [
       "Business            129\n",
       "General              96\n",
       "Management           61\n",
       "and                  43\n",
       "Finance              24\n",
       "Marketing            24\n",
       "Accounting           23\n",
       "&                    17\n",
       "HRM                  12\n",
       "Administration       11\n",
       "Economics            11\n",
       "Human                10\n",
       "Management,           9\n",
       "International         9\n",
       "HR                    8\n",
       "Quality               6\n",
       "/                     6\n",
       "Resources             6\n",
       "Islamic               5\n",
       "Strategic             5\n",
       "Law                   5\n",
       "Resource              4\n",
       "Tourism               4\n",
       "Strategy              4\n",
       "Operations            4\n",
       "Business,             4\n",
       "management            4\n",
       "Adminstration         4\n",
       "Entrepreneurship      4\n",
       "Mgt,                  3\n",
       ",                     3\n",
       "Supply                3\n",
       "Finance,              3\n",
       "Corporate             3\n",
       "Statistics            2\n",
       "Administration/       2\n",
       "HRM,                  2\n",
       "Accounting,           2\n",
       "Hospitality           2\n",
       "Financial             2\n",
       "dtype: int64"
      ]
     },
     "execution_count": 1232,
     "metadata": {},
     "output_type": "execute_result"
    }
   ],
   "source": [
    "## List the 40 most common words or symbols in the column:  \n",
    "com = pd.Series(' '.join(df['Teaching_subject']).split()).value_counts()[:40]\n",
    "com"
   ]
  },
  {
   "cell_type": "code",
   "execution_count": 1233,
   "metadata": {},
   "outputs": [
    {
     "name": "stdout",
     "output_type": "stream",
     "text": [
      "False    196\n",
      "True      77\n",
      "Name: Teaching_subject, dtype: int64\n",
      "True     137\n",
      "False    136\n",
      "Name: Teaching_subject, dtype: int64\n",
      "False    254\n",
      "True      19\n",
      "Name: Teaching_subject, dtype: int64\n",
      "False    242\n",
      "True      31\n",
      "Name: Teaching_subject, dtype: int64\n",
      "False    245\n",
      "True      28\n",
      "Name: Teaching_subject, dtype: int64\n",
      "False    244\n",
      "True      29\n",
      "Name: Teaching_subject, dtype: int64\n",
      "False    248\n",
      "True      25\n",
      "Name: Teaching_subject, dtype: int64\n",
      "False    265\n",
      "True       8\n",
      "Name: Teaching_subject, dtype: int64\n",
      "False    259\n",
      "True      14\n",
      "Name: Teaching_subject, dtype: int64\n",
      "False    263\n",
      "True      10\n",
      "Name: Teaching_subject, dtype: int64\n"
     ]
    },
    {
     "data": {
      "text/plain": [
       "0"
      ]
     },
     "execution_count": 1233,
     "metadata": {},
     "output_type": "execute_result"
    }
   ],
   "source": [
    "## Print out the most common subjects for QC: \n",
    "#print(df['Teaching_subject'].value_counts())\n",
    "print(df['Teaching_subject'].str.contains('management', case=False).value_counts())\n",
    "print(df['Teaching_subject'].str.contains('business', case=False).value_counts())\n",
    "print(df['Teaching_subject'].str.contains('economics', case=False).value_counts())\n",
    "print(df['Teaching_subject'].str.contains('finance', case=False).value_counts())\n",
    "print(df['Teaching_subject'].str.contains('marketing', case=False).value_counts())\n",
    "print(df['Teaching_subject'].str.contains('accounting', case=False).value_counts())\n",
    "print(df['Teaching_subject'].str.contains('hr', case=False).value_counts())\n",
    "print(df['Teaching_subject'].str.contains('law', case=False).value_counts())\n",
    "print(df['Teaching_subject'].str.contains('administration', case=False).value_counts())\n",
    "print(df['Teaching_subject'].str.contains('human', case=False).value_counts())\n",
    "## Check NaNs \n",
    "df['Teaching_subject'].isna().sum()"
   ]
  },
  {
   "cell_type": "code",
   "execution_count": 1234,
   "metadata": {},
   "outputs": [
    {
     "name": "stdout",
     "output_type": "stream",
     "text": [
      "business          88\n",
      "management        56\n",
      "accounting        26\n",
      "hr                25\n",
      "finance           16\n",
      "administration    14\n",
      "marketing         14\n",
      "economics         11\n",
      "human             10\n",
      "law                7\n",
      "other              6\n",
      "Name: Teaching_subject1, dtype: int64\n"
     ]
    }
   ],
   "source": [
    "## Keyword loop, with other as the default if none are found: \n",
    "teachlist = ('business', 'economics', 'finance', 'marketing', 'management', 'accounting', 'hr', 'law', 'administration', 'human')\n",
    "df['Teaching_subject1'] = 'other'\n",
    "for x in teachlist:\n",
    "    df.loc[df['Teaching_subject'].str.contains(x, case=False), 'Teaching_subject1'] = x\n",
    "\n",
    "#df.loc[df['Teaching_subject'].str.contains('finance', case=False), Teaching_subject1'] = 'finance'\n",
    "print(df['Teaching_subject1'].value_counts())"
   ]
  },
  {
   "cell_type": "code",
   "execution_count": 1235,
   "metadata": {},
   "outputs": [],
   "source": [
    "## Use dummy column and then drop\n",
    "df['Teaching_subject'] = df['Teaching_subject1']\n",
    "df.drop(['Teaching_subject1'], axis=1, inplace=True)"
   ]
  },
  {
   "cell_type": "markdown",
   "metadata": {},
   "source": [
    "#### Column 18: Other_experience\n",
    "* Column left as a bad of words for ML algorithm "
   ]
  },
  {
   "cell_type": "code",
   "execution_count": 1236,
   "metadata": {},
   "outputs": [
    {
     "data": {
      "text/html": [
       "<div>\n",
       "<style scoped>\n",
       "    .dataframe tbody tr th:only-of-type {\n",
       "        vertical-align: middle;\n",
       "    }\n",
       "\n",
       "    .dataframe tbody tr th {\n",
       "        vertical-align: top;\n",
       "    }\n",
       "\n",
       "    .dataframe thead th {\n",
       "        text-align: right;\n",
       "    }\n",
       "</style>\n",
       "<table border=\"1\" class=\"dataframe\">\n",
       "  <thead>\n",
       "    <tr style=\"text-align: right;\">\n",
       "      <th></th>\n",
       "      <th>0</th>\n",
       "      <th>1</th>\n",
       "      <th>2</th>\n",
       "      <th>3</th>\n",
       "      <th>4</th>\n",
       "      <th>5</th>\n",
       "      <th>6</th>\n",
       "      <th>7</th>\n",
       "    </tr>\n",
       "  </thead>\n",
       "  <tbody>\n",
       "    <tr>\n",
       "      <th>0</th>\n",
       "      <td>10+ Years Small Business Ownership</td>\n",
       "      <td>10+ Years SME Consulting</td>\n",
       "      <td>10+ Years Corporate/Vocational Business Training</td>\n",
       "      <td>8 Years Teaching Experience</td>\n",
       "      <td>None</td>\n",
       "      <td>None</td>\n",
       "      <td>None</td>\n",
       "      <td>None</td>\n",
       "    </tr>\n",
       "    <tr>\n",
       "      <th>1</th>\n",
       "      <td>years of teaching experience: 17              ...</td>\n",
       "      <td>ACMA</td>\n",
       "      <td>None</td>\n",
       "      <td>None</td>\n",
       "      <td>None</td>\n",
       "      <td>None</td>\n",
       "      <td>None</td>\n",
       "      <td>None</td>\n",
       "    </tr>\n",
       "    <tr>\n",
       "      <th>2</th>\n",
       "      <td>Years of teaching experience: 15\\nYears of pro...</td>\n",
       "      <td>None</td>\n",
       "      <td>None</td>\n",
       "      <td>None</td>\n",
       "      <td>None</td>\n",
       "      <td>None</td>\n",
       "      <td>None</td>\n",
       "      <td>None</td>\n",
       "    </tr>\n",
       "    <tr>\n",
       "      <th>3</th>\n",
       "      <td>6 years professional experience + 6 years teac...</td>\n",
       "      <td>None</td>\n",
       "      <td>None</td>\n",
       "      <td>None</td>\n",
       "      <td>None</td>\n",
       "      <td>None</td>\n",
       "      <td>None</td>\n",
       "      <td>None</td>\n",
       "    </tr>\n",
       "    <tr>\n",
       "      <th>4</th>\n",
       "      <td>1 year professional experience + 24 years teac...</td>\n",
       "      <td>None</td>\n",
       "      <td>None</td>\n",
       "      <td>None</td>\n",
       "      <td>None</td>\n",
       "      <td>None</td>\n",
       "      <td>None</td>\n",
       "      <td>None</td>\n",
       "    </tr>\n",
       "    <tr>\n",
       "      <th>5</th>\n",
       "      <td>NaN</td>\n",
       "      <td>NaN</td>\n",
       "      <td>NaN</td>\n",
       "      <td>NaN</td>\n",
       "      <td>NaN</td>\n",
       "      <td>NaN</td>\n",
       "      <td>NaN</td>\n",
       "      <td>NaN</td>\n",
       "    </tr>\n",
       "    <tr>\n",
       "      <th>6</th>\n",
       "      <td>NaN</td>\n",
       "      <td>NaN</td>\n",
       "      <td>NaN</td>\n",
       "      <td>NaN</td>\n",
       "      <td>NaN</td>\n",
       "      <td>NaN</td>\n",
       "      <td>NaN</td>\n",
       "      <td>NaN</td>\n",
       "    </tr>\n",
       "    <tr>\n",
       "      <th>7</th>\n",
       "      <td>11 years teaching experience</td>\n",
       "      <td>None</td>\n",
       "      <td>None</td>\n",
       "      <td>None</td>\n",
       "      <td>None</td>\n",
       "      <td>None</td>\n",
       "      <td>None</td>\n",
       "      <td>None</td>\n",
       "    </tr>\n",
       "    <tr>\n",
       "      <th>8</th>\n",
       "      <td>7+ years Teaching/Corporate Training experienc...</td>\n",
       "      <td>Banking</td>\n",
       "      <td>Teaching                                     ...</td>\n",
       "      <td>None</td>\n",
       "      <td>None</td>\n",
       "      <td>None</td>\n",
       "      <td>None</td>\n",
       "      <td>None</td>\n",
       "    </tr>\n",
       "    <tr>\n",
       "      <th>9</th>\n",
       "      <td>Taught 1 business course (1 semester) \\nHave b...</td>\n",
       "      <td>None</td>\n",
       "      <td>None</td>\n",
       "      <td>None</td>\n",
       "      <td>None</td>\n",
       "      <td>None</td>\n",
       "      <td>None</td>\n",
       "      <td>None</td>\n",
       "    </tr>\n",
       "    <tr>\n",
       "      <th>10</th>\n",
       "      <td>18 years teaching experience in Higher Educati...</td>\n",
       "      <td>None</td>\n",
       "      <td>None</td>\n",
       "      <td>None</td>\n",
       "      <td>None</td>\n",
       "      <td>None</td>\n",
       "      <td>None</td>\n",
       "      <td>None</td>\n",
       "    </tr>\n",
       "    <tr>\n",
       "      <th>11</th>\n",
       "      <td>NaN</td>\n",
       "      <td>NaN</td>\n",
       "      <td>NaN</td>\n",
       "      <td>NaN</td>\n",
       "      <td>NaN</td>\n",
       "      <td>NaN</td>\n",
       "      <td>NaN</td>\n",
       "      <td>NaN</td>\n",
       "    </tr>\n",
       "    <tr>\n",
       "      <th>12</th>\n",
       "      <td>13 plus years of teaching experience; 4 plus y...</td>\n",
       "      <td>None</td>\n",
       "      <td>None</td>\n",
       "      <td>None</td>\n",
       "      <td>None</td>\n",
       "      <td>None</td>\n",
       "      <td>None</td>\n",
       "      <td>None</td>\n",
       "    </tr>\n",
       "    <tr>\n",
       "      <th>13</th>\n",
       "      <td>9 year work experience and one year and 6 mont...</td>\n",
       "      <td>None</td>\n",
       "      <td>None</td>\n",
       "      <td>None</td>\n",
       "      <td>None</td>\n",
       "      <td>None</td>\n",
       "      <td>None</td>\n",
       "      <td>None</td>\n",
       "    </tr>\n",
       "    <tr>\n",
       "      <th>14</th>\n",
       "      <td>27 years of Business teaching experience in Hi...</td>\n",
       "      <td>None</td>\n",
       "      <td>None</td>\n",
       "      <td>None</td>\n",
       "      <td>None</td>\n",
       "      <td>None</td>\n",
       "      <td>None</td>\n",
       "      <td>None</td>\n",
       "    </tr>\n",
       "  </tbody>\n",
       "</table>\n",
       "</div>"
      ],
      "text/plain": [
       "                                                    0  \\\n",
       "0                  10+ Years Small Business Ownership   \n",
       "1   years of teaching experience: 17              ...   \n",
       "2   Years of teaching experience: 15\\nYears of pro...   \n",
       "3   6 years professional experience + 6 years teac...   \n",
       "4   1 year professional experience + 24 years teac...   \n",
       "5                                                 NaN   \n",
       "6                                                 NaN   \n",
       "7                        11 years teaching experience   \n",
       "8   7+ years Teaching/Corporate Training experienc...   \n",
       "9   Taught 1 business course (1 semester) \\nHave b...   \n",
       "10  18 years teaching experience in Higher Educati...   \n",
       "11                                                NaN   \n",
       "12  13 plus years of teaching experience; 4 plus y...   \n",
       "13  9 year work experience and one year and 6 mont...   \n",
       "14  27 years of Business teaching experience in Hi...   \n",
       "\n",
       "                            1  \\\n",
       "0    10+ Years SME Consulting   \n",
       "1                  ACMA         \n",
       "2                        None   \n",
       "3                        None   \n",
       "4                        None   \n",
       "5                         NaN   \n",
       "6                         NaN   \n",
       "7                        None   \n",
       "8                     Banking   \n",
       "9                        None   \n",
       "10                       None   \n",
       "11                        NaN   \n",
       "12                       None   \n",
       "13                       None   \n",
       "14                       None   \n",
       "\n",
       "                                                    2  \\\n",
       "0    10+ Years Corporate/Vocational Business Training   \n",
       "1                                                None   \n",
       "2                                                None   \n",
       "3                                                None   \n",
       "4                                                None   \n",
       "5                                                 NaN   \n",
       "6                                                 NaN   \n",
       "7                                                None   \n",
       "8    Teaching                                     ...   \n",
       "9                                                None   \n",
       "10                                               None   \n",
       "11                                                NaN   \n",
       "12                                               None   \n",
       "13                                               None   \n",
       "14                                               None   \n",
       "\n",
       "                               3     4     5     6     7  \n",
       "0    8 Years Teaching Experience  None  None  None  None  \n",
       "1                           None  None  None  None  None  \n",
       "2                           None  None  None  None  None  \n",
       "3                           None  None  None  None  None  \n",
       "4                           None  None  None  None  None  \n",
       "5                            NaN   NaN   NaN   NaN   NaN  \n",
       "6                            NaN   NaN   NaN   NaN   NaN  \n",
       "7                           None  None  None  None  None  \n",
       "8                           None  None  None  None  None  \n",
       "9                           None  None  None  None  None  \n",
       "10                          None  None  None  None  None  \n",
       "11                           NaN   NaN   NaN   NaN   NaN  \n",
       "12                          None  None  None  None  None  \n",
       "13                          None  None  None  None  None  \n",
       "14                          None  None  None  None  None  "
      ]
     },
     "execution_count": 1236,
     "metadata": {},
     "output_type": "execute_result"
    }
   ],
   "source": [
    "words = df['Other_experience']\n",
    "words_certif = words.str.split(pat=',' , n=-1, expand=True)\n",
    "words_certif.head(15)"
   ]
  },
  {
   "cell_type": "code",
   "execution_count": 1237,
   "metadata": {},
   "outputs": [
    {
     "name": "stdout",
     "output_type": "stream",
     "text": [
      "More than 5 years work experience                                                                                                                                      13\n",
      "14 years teaching experience                                                                                                                                            2\n",
      "11 years teaching experience                                                                                                                                            2\n",
      "8 years teaching experience\\n14 years industry experience\\n                                                                                                             1\n",
      "MCSE                                                                                                                                                                    1\n",
      "                                                                                                                                                                       ..\n",
      "Six Sigma                                                                                                                                                               1\n",
      "years of teaching experience: 12years of professional/management experience: 15                                                                                         1\n",
      "2 years professional experience + 13 teaching experience and active researcher. Curriculum development experience. Certifications- Certified Islamic Finance Expert     1\n",
      "20 professional experience + 5 teaching. Trainer for CMA Exams and Accreditation experience.                                                                            1\n",
      "16 years professional experience +11 year teaching and active researcher. Accreditation background                                                                      1\n",
      "Name: 0, Length: 202, dtype: int64\n"
     ]
    }
   ],
   "source": [
    "print(words_certif[0].value_counts())"
   ]
  },
  {
   "cell_type": "code",
   "execution_count": 1238,
   "metadata": {},
   "outputs": [
    {
     "data": {
      "text/plain": [
       "years             297\n",
       "experience        206\n",
       "teaching          131\n",
       "of                105\n",
       "and                85\n",
       "professional       79\n",
       "in                 61\n",
       "none               57\n",
       "Teaching           52\n",
       "Years              50\n",
       "5                  47\n",
       "Professional       47\n",
       "Experience         37\n",
       "management         30\n",
       "Management         28\n",
       "8                  26\n",
       "work               25\n",
       "Certified          24\n",
       "Certificate        24\n",
       "10                 24\n",
       "9                  22\n",
       "3                  22\n",
       "4                  20\n",
       "More               20\n",
       "than               20\n",
       "20                 19\n",
       "active             19\n",
       "researcher         18\n",
       "7                  18\n",
       "Certification      18\n",
       "16                 17\n",
       "14                 17\n",
       "6                  17\n",
       "Certifications     16\n",
       "industry           16\n",
       "12                 15\n",
       "Training           13\n",
       "1                  13\n",
       "Industry           13\n",
       "11                 12\n",
       "dtype: int64"
      ]
     },
     "execution_count": 1238,
     "metadata": {},
     "output_type": "execute_result"
    }
   ],
   "source": [
    "### Set column type as string:\n",
    "df['Other_experience'] = df['Other_experience'].astype('string')\n",
    "### First - remove NaNs and replace with 'None'\n",
    "df['Other_experience'] = df['Other_experience'].fillna('none')\n",
    "### Remove all the special characters .... \n",
    "## spec_chars=[]\n",
    "df['Other_experience'] = df['Other_experience'].str.replace('\\W', ' ', regex=True)\n",
    "# Identify most common words\n",
    "common = pd.Series(' '.join(df['Other_experience']).split()).value_counts()[:40]\n",
    "common"
   ]
  },
  {
   "cell_type": "markdown",
   "metadata": {},
   "source": [
    "#### Column 19: Type_of_Experience"
   ]
  },
  {
   "cell_type": "code",
   "execution_count": 1239,
   "metadata": {},
   "outputs": [
    {
     "name": "stdout",
     "output_type": "stream",
     "text": [
      "Industry & Teaching experience                     221\n",
      "Certification                                       26\n",
      "Researcher                                          15\n",
      "Researcher/Curriculum Development                    4\n",
      "Certification/Curriculum Development                 3\n",
      "Trainee                                              2\n",
      "Certification/Researcher/Curriculum Development      1\n",
      "Certification/Researcher                             1\n",
      "Name: Type_of_Experience, dtype: int64\n"
     ]
    }
   ],
   "source": [
    "print(df['Type_of_Experience'].value_counts())"
   ]
  },
  {
   "cell_type": "code",
   "execution_count": 1240,
   "metadata": {},
   "outputs": [
    {
     "name": "stdout",
     "output_type": "stream",
     "text": [
      "industry         221\n",
      "certification     29\n",
      "researcher        21\n",
      "trainee            2\n",
      "Name: Type_of_Experience1, dtype: int64\n"
     ]
    }
   ],
   "source": [
    "explist = ('industry', 'certification', 'researcher', 'trainee')\n",
    "# df['Teaching_subject1'] = 'other'\n",
    "for x in explist:\n",
    "    df.loc[df['Type_of_Experience'].str.contains(x, case=False), 'Type_of_Experience1'] = x\n",
    "\n",
    "#df.loc[df['Teaching_subject'].str.contains('finance', case=False), Teaching_subject1'] = 'finance'\n",
    "print(df['Type_of_Experience1'].value_counts())"
   ]
  },
  {
   "cell_type": "code",
   "execution_count": 1257,
   "metadata": {},
   "outputs": [],
   "source": [
    "## Use dummy column and then drop\n",
    "df['Type_of_Experience'] = df['Type_of_Experience1']\n",
    "df.drop(['Type_of_Experience1'], axis=1, inplace=True)"
   ]
  },
  {
   "cell_type": "markdown",
   "metadata": {},
   "source": [
    "### Part 3 - Converting column values into integers for ML "
   ]
  },
  {
   "cell_type": "code",
   "execution_count": 1242,
   "metadata": {},
   "outputs": [],
   "source": [
    "from sklearn import preprocessing\n",
    "le = preprocessing.LabelEncoder()"
   ]
  },
  {
   "cell_type": "code",
   "execution_count": 1243,
   "metadata": {},
   "outputs": [],
   "source": [
    "def labencode(col1): \n",
    "    y=df[col1]\n",
    "    le.fit(y)\n",
    "    df[col1] = le.transform(y)\n",
    "    print(df[col1])\n",
    "  "
   ]
  },
  {
   "cell_type": "code",
   "execution_count": 1258,
   "metadata": {},
   "outputs": [
    {
     "data": {
      "text/html": [
       "<div>\n",
       "<style scoped>\n",
       "    .dataframe tbody tr th:only-of-type {\n",
       "        vertical-align: middle;\n",
       "    }\n",
       "\n",
       "    .dataframe tbody tr th {\n",
       "        vertical-align: top;\n",
       "    }\n",
       "\n",
       "    .dataframe thead th {\n",
       "        text-align: right;\n",
       "    }\n",
       "</style>\n",
       "<table border=\"1\" class=\"dataframe\">\n",
       "  <thead>\n",
       "    <tr style=\"text-align: right;\">\n",
       "      <th></th>\n",
       "      <th>ID</th>\n",
       "      <th>Name</th>\n",
       "      <th>Location</th>\n",
       "      <th>Title</th>\n",
       "      <th>Date_joined</th>\n",
       "      <th>Supervisor</th>\n",
       "      <th>Highest_qualification_level</th>\n",
       "      <th>Major</th>\n",
       "      <th>Teaching_subject</th>\n",
       "      <th>Other_experience</th>\n",
       "      <th>Type_of_Experience</th>\n",
       "      <th>Courses_Taught_1</th>\n",
       "      <th>Courses_Taught_2</th>\n",
       "      <th>Courses_Taught_3</th>\n",
       "      <th>Courses_Taught_4</th>\n",
       "    </tr>\n",
       "  </thead>\n",
       "  <tbody>\n",
       "    <tr>\n",
       "      <th>0</th>\n",
       "      <td>9210743</td>\n",
       "      <td>Jim Hunter</td>\n",
       "      <td>12</td>\n",
       "      <td>0</td>\n",
       "      <td>2010</td>\n",
       "      <td>0</td>\n",
       "      <td>2</td>\n",
       "      <td>3</td>\n",
       "      <td>administration</td>\n",
       "      <td>10  Years Small Business Ownership  10  Years ...</td>\n",
       "      <td>industry</td>\n",
       "      <td>BUS10</td>\n",
       "      <td>BUS24</td>\n",
       "      <td>0</td>\n",
       "      <td>0</td>\n",
       "    </tr>\n",
       "    <tr>\n",
       "      <th>1</th>\n",
       "      <td>9001784</td>\n",
       "      <td>Jose Nadal</td>\n",
       "      <td>12</td>\n",
       "      <td>0</td>\n",
       "      <td>1999</td>\n",
       "      <td>0</td>\n",
       "      <td>2</td>\n",
       "      <td>3</td>\n",
       "      <td>business</td>\n",
       "      <td>years of teaching experience  17              ...</td>\n",
       "      <td>certification</td>\n",
       "      <td>0</td>\n",
       "      <td>0</td>\n",
       "      <td>0</td>\n",
       "      <td>BUS49</td>\n",
       "    </tr>\n",
       "    <tr>\n",
       "      <th>2</th>\n",
       "      <td>9062955</td>\n",
       "      <td>Pierre Cornet</td>\n",
       "      <td>12</td>\n",
       "      <td>0</td>\n",
       "      <td>2007</td>\n",
       "      <td>0</td>\n",
       "      <td>2</td>\n",
       "      <td>9</td>\n",
       "      <td>management</td>\n",
       "      <td>Years of teaching experience  15 Years of prof...</td>\n",
       "      <td>industry</td>\n",
       "      <td>BUS13</td>\n",
       "      <td>0</td>\n",
       "      <td>BUS39</td>\n",
       "      <td>0</td>\n",
       "    </tr>\n",
       "    <tr>\n",
       "      <th>3</th>\n",
       "      <td>9500000</td>\n",
       "      <td>Sally Smith</td>\n",
       "      <td>12</td>\n",
       "      <td>0</td>\n",
       "      <td>2016</td>\n",
       "      <td>0</td>\n",
       "      <td>1</td>\n",
       "      <td>3</td>\n",
       "      <td>hr</td>\n",
       "      <td>6 years professional experience   6 years teac...</td>\n",
       "      <td>researcher</td>\n",
       "      <td>0</td>\n",
       "      <td>0</td>\n",
       "      <td>0</td>\n",
       "      <td>0</td>\n",
       "    </tr>\n",
       "    <tr>\n",
       "      <th>4</th>\n",
       "      <td>9500001</td>\n",
       "      <td>Ned Shearer</td>\n",
       "      <td>12</td>\n",
       "      <td>1</td>\n",
       "      <td>2016</td>\n",
       "      <td>14</td>\n",
       "      <td>1</td>\n",
       "      <td>5</td>\n",
       "      <td>economics</td>\n",
       "      <td>1 year professional experience   24 years teac...</td>\n",
       "      <td>researcher</td>\n",
       "      <td>0</td>\n",
       "      <td>0</td>\n",
       "      <td>0</td>\n",
       "      <td>0</td>\n",
       "    </tr>\n",
       "  </tbody>\n",
       "</table>\n",
       "</div>"
      ],
      "text/plain": [
       "        ID           Name  Location  Title  Date_joined  Supervisor  \\\n",
       "0  9210743     Jim Hunter        12      0         2010           0   \n",
       "1  9001784     Jose Nadal        12      0         1999           0   \n",
       "2  9062955  Pierre Cornet        12      0         2007           0   \n",
       "3  9500000    Sally Smith        12      0         2016           0   \n",
       "4  9500001   Ned Shearer         12      1         2016          14   \n",
       "\n",
       "   Highest_qualification_level  Major Teaching_subject  \\\n",
       "0                            2      3   administration   \n",
       "1                            2      3         business   \n",
       "2                            2      9       management   \n",
       "3                            1      3               hr   \n",
       "4                            1      5        economics   \n",
       "\n",
       "                                    Other_experience Type_of_Experience  \\\n",
       "0  10  Years Small Business Ownership  10  Years ...           industry   \n",
       "1  years of teaching experience  17              ...      certification   \n",
       "2  Years of teaching experience  15 Years of prof...           industry   \n",
       "3  6 years professional experience   6 years teac...         researcher   \n",
       "4  1 year professional experience   24 years teac...         researcher   \n",
       "\n",
       "  Courses_Taught_1 Courses_Taught_2 Courses_Taught_3 Courses_Taught_4  \n",
       "0            BUS10            BUS24                0                0  \n",
       "1                0                0                0            BUS49  \n",
       "2            BUS13                0            BUS39                0  \n",
       "3                0                0                0                0  \n",
       "4                0                0                0                0  "
      ]
     },
     "execution_count": 1258,
     "metadata": {},
     "output_type": "execute_result"
    }
   ],
   "source": [
    "df.head()"
   ]
  },
  {
   "cell_type": "code",
   "execution_count": 1246,
   "metadata": {},
   "outputs": [
    {
     "name": "stdout",
     "output_type": "stream",
     "text": [
      "0      12\n",
      "1      12\n",
      "2      12\n",
      "3      12\n",
      "4      12\n",
      "       ..\n",
      "279     5\n",
      "280     5\n",
      "281     5\n",
      "282     5\n",
      "283     5\n",
      "Name: Location, Length: 273, dtype: int32\n"
     ]
    }
   ],
   "source": [
    "## Classify the columns - convert into numbers using the function labencode \n",
    "## Columns to classify \n",
    "labencode('Location') \n"
   ]
  },
  {
   "cell_type": "code",
   "execution_count": 1247,
   "metadata": {},
   "outputs": [
    {
     "name": "stdout",
     "output_type": "stream",
     "text": [
      "0      0\n",
      "1      0\n",
      "2      0\n",
      "3      0\n",
      "4      1\n",
      "      ..\n",
      "279    0\n",
      "280    0\n",
      "281    0\n",
      "282    0\n",
      "283    0\n",
      "Name: Title, Length: 273, dtype: int32\n"
     ]
    }
   ],
   "source": [
    "labencode('Title') "
   ]
  },
  {
   "cell_type": "code",
   "execution_count": 1252,
   "metadata": {},
   "outputs": [
    {
     "name": "stdout",
     "output_type": "stream",
     "text": [
      "0       0\n",
      "1       0\n",
      "2       0\n",
      "3       0\n",
      "4      14\n",
      "       ..\n",
      "279    10\n",
      "280    10\n",
      "281    10\n",
      "282    10\n",
      "283    10\n",
      "Name: Supervisor, Length: 273, dtype: int32\n"
     ]
    }
   ],
   "source": [
    "labencode('Supervisor') "
   ]
  },
  {
   "cell_type": "code",
   "execution_count": 1253,
   "metadata": {},
   "outputs": [
    {
     "name": "stdout",
     "output_type": "stream",
     "text": [
      "0      2\n",
      "1      2\n",
      "2      2\n",
      "3      1\n",
      "4      1\n",
      "      ..\n",
      "279    1\n",
      "280    1\n",
      "281    1\n",
      "282    1\n",
      "283    1\n",
      "Name: Highest_qualification_level, Length: 273, dtype: int32\n"
     ]
    }
   ],
   "source": [
    "labencode('Highest_qualification_level')"
   ]
  },
  {
   "cell_type": "code",
   "execution_count": 1254,
   "metadata": {},
   "outputs": [
    {
     "name": "stdout",
     "output_type": "stream",
     "text": [
      "0      3\n",
      "1      3\n",
      "2      9\n",
      "3      3\n",
      "4      5\n",
      "      ..\n",
      "279    5\n",
      "280    9\n",
      "281    3\n",
      "282    3\n",
      "283    8\n",
      "Name: Major, Length: 273, dtype: int32\n"
     ]
    }
   ],
   "source": [
    "labencode('Major') "
   ]
  },
  {
   "cell_type": "code",
   "execution_count": 1259,
   "metadata": {},
   "outputs": [
    {
     "name": "stdout",
     "output_type": "stream",
     "text": [
      "0      1\n",
      "1      2\n",
      "2      8\n",
      "3      5\n",
      "4      3\n",
      "      ..\n",
      "279    3\n",
      "280    9\n",
      "281    5\n",
      "282    4\n",
      "283    8\n",
      "Name: Teaching_subject, Length: 273, dtype: int32\n"
     ]
    }
   ],
   "source": [
    "labencode('Teaching_subject')"
   ]
  },
  {
   "cell_type": "code",
   "execution_count": 1260,
   "metadata": {},
   "outputs": [
    {
     "name": "stdout",
     "output_type": "stream",
     "text": [
      "0      1\n",
      "1      0\n",
      "2      1\n",
      "3      2\n",
      "4      2\n",
      "      ..\n",
      "279    2\n",
      "280    2\n",
      "281    2\n",
      "282    2\n",
      "283    2\n",
      "Name: Type_of_Experience, Length: 273, dtype: int32\n"
     ]
    }
   ],
   "source": [
    "labencode('Type_of_Experience')"
   ]
  },
  {
   "cell_type": "code",
   "execution_count": 1263,
   "metadata": {},
   "outputs": [
    {
     "name": "stdout",
     "output_type": "stream",
     "text": [
      "0      1\n",
      "1      0\n",
      "2      4\n",
      "3      0\n",
      "4      0\n",
      "      ..\n",
      "279    0\n",
      "280    0\n",
      "281    0\n",
      "282    0\n",
      "283    0\n",
      "Name: Courses_Taught_1, Length: 273, dtype: int32\n"
     ]
    }
   ],
   "source": [
    "labencode('Courses_Taught_1') "
   ]
  },
  {
   "cell_type": "code",
   "execution_count": 1264,
   "metadata": {},
   "outputs": [
    {
     "name": "stdout",
     "output_type": "stream",
     "text": [
      "0      5\n",
      "1      0\n",
      "2      0\n",
      "3      0\n",
      "4      0\n",
      "      ..\n",
      "279    0\n",
      "280    0\n",
      "281    0\n",
      "282    0\n",
      "283    0\n",
      "Name: Courses_Taught_2, Length: 273, dtype: int32\n"
     ]
    }
   ],
   "source": [
    "labencode('Courses_Taught_2') "
   ]
  },
  {
   "cell_type": "code",
   "execution_count": 1265,
   "metadata": {},
   "outputs": [
    {
     "name": "stdout",
     "output_type": "stream",
     "text": [
      "0      0\n",
      "1      0\n",
      "2      5\n",
      "3      0\n",
      "4      0\n",
      "      ..\n",
      "279    0\n",
      "280    0\n",
      "281    0\n",
      "282    0\n",
      "283    0\n",
      "Name: Courses_Taught_3, Length: 273, dtype: int32\n"
     ]
    }
   ],
   "source": [
    "labencode('Courses_Taught_3') "
   ]
  },
  {
   "cell_type": "code",
   "execution_count": 1266,
   "metadata": {},
   "outputs": [
    {
     "name": "stdout",
     "output_type": "stream",
     "text": [
      "0      0\n",
      "1      7\n",
      "2      0\n",
      "3      0\n",
      "4      0\n",
      "      ..\n",
      "279    0\n",
      "280    0\n",
      "281    0\n",
      "282    0\n",
      "283    0\n",
      "Name: Courses_Taught_4, Length: 273, dtype: int32\n"
     ]
    }
   ],
   "source": [
    "labencode('Courses_Taught_4') "
   ]
  },
  {
   "cell_type": "code",
   "execution_count": 1270,
   "metadata": {},
   "outputs": [
    {
     "name": "stdout",
     "output_type": "stream",
     "text": [
      "0      17\n",
      "1       7\n",
      "2      14\n",
      "3      23\n",
      "4      23\n",
      "       ..\n",
      "279    23\n",
      "280    23\n",
      "281    23\n",
      "282    23\n",
      "283    23\n",
      "Name: Date_joined, Length: 273, dtype: int64\n"
     ]
    }
   ],
   "source": [
    "labencode('Date_joined') "
   ]
  },
  {
   "cell_type": "markdown",
   "metadata": {},
   "source": [
    "### Part 4 - Final QC Checks and Output to EXCEL file "
   ]
  },
  {
   "cell_type": "code",
   "execution_count": 1271,
   "metadata": {},
   "outputs": [
    {
     "data": {
      "text/html": [
       "<div>\n",
       "<style scoped>\n",
       "    .dataframe tbody tr th:only-of-type {\n",
       "        vertical-align: middle;\n",
       "    }\n",
       "\n",
       "    .dataframe tbody tr th {\n",
       "        vertical-align: top;\n",
       "    }\n",
       "\n",
       "    .dataframe thead th {\n",
       "        text-align: right;\n",
       "    }\n",
       "</style>\n",
       "<table border=\"1\" class=\"dataframe\">\n",
       "  <thead>\n",
       "    <tr style=\"text-align: right;\">\n",
       "      <th></th>\n",
       "      <th>ID</th>\n",
       "      <th>Name</th>\n",
       "      <th>Location</th>\n",
       "      <th>Title</th>\n",
       "      <th>Date_joined</th>\n",
       "      <th>Supervisor</th>\n",
       "      <th>Highest_qualification_level</th>\n",
       "      <th>Major</th>\n",
       "      <th>Teaching_subject</th>\n",
       "      <th>Other_experience</th>\n",
       "      <th>Type_of_Experience</th>\n",
       "      <th>Courses_Taught_1</th>\n",
       "      <th>Courses_Taught_2</th>\n",
       "      <th>Courses_Taught_3</th>\n",
       "      <th>Courses_Taught_4</th>\n",
       "    </tr>\n",
       "  </thead>\n",
       "  <tbody>\n",
       "    <tr>\n",
       "      <th>0</th>\n",
       "      <td>9210743</td>\n",
       "      <td>Jim Hunter</td>\n",
       "      <td>12</td>\n",
       "      <td>0</td>\n",
       "      <td>17</td>\n",
       "      <td>0</td>\n",
       "      <td>2</td>\n",
       "      <td>3</td>\n",
       "      <td>1</td>\n",
       "      <td>10  Years Small Business Ownership  10  Years ...</td>\n",
       "      <td>1</td>\n",
       "      <td>1</td>\n",
       "      <td>5</td>\n",
       "      <td>0</td>\n",
       "      <td>0</td>\n",
       "    </tr>\n",
       "    <tr>\n",
       "      <th>1</th>\n",
       "      <td>9001784</td>\n",
       "      <td>Jose Nadal</td>\n",
       "      <td>12</td>\n",
       "      <td>0</td>\n",
       "      <td>7</td>\n",
       "      <td>0</td>\n",
       "      <td>2</td>\n",
       "      <td>3</td>\n",
       "      <td>2</td>\n",
       "      <td>years of teaching experience  17              ...</td>\n",
       "      <td>0</td>\n",
       "      <td>0</td>\n",
       "      <td>0</td>\n",
       "      <td>0</td>\n",
       "      <td>7</td>\n",
       "    </tr>\n",
       "    <tr>\n",
       "      <th>2</th>\n",
       "      <td>9062955</td>\n",
       "      <td>Pierre Cornet</td>\n",
       "      <td>12</td>\n",
       "      <td>0</td>\n",
       "      <td>14</td>\n",
       "      <td>0</td>\n",
       "      <td>2</td>\n",
       "      <td>9</td>\n",
       "      <td>8</td>\n",
       "      <td>Years of teaching experience  15 Years of prof...</td>\n",
       "      <td>1</td>\n",
       "      <td>4</td>\n",
       "      <td>0</td>\n",
       "      <td>5</td>\n",
       "      <td>0</td>\n",
       "    </tr>\n",
       "    <tr>\n",
       "      <th>3</th>\n",
       "      <td>9500000</td>\n",
       "      <td>Sally Smith</td>\n",
       "      <td>12</td>\n",
       "      <td>0</td>\n",
       "      <td>23</td>\n",
       "      <td>0</td>\n",
       "      <td>1</td>\n",
       "      <td>3</td>\n",
       "      <td>5</td>\n",
       "      <td>6 years professional experience   6 years teac...</td>\n",
       "      <td>2</td>\n",
       "      <td>0</td>\n",
       "      <td>0</td>\n",
       "      <td>0</td>\n",
       "      <td>0</td>\n",
       "    </tr>\n",
       "    <tr>\n",
       "      <th>4</th>\n",
       "      <td>9500001</td>\n",
       "      <td>Ned Shearer</td>\n",
       "      <td>12</td>\n",
       "      <td>1</td>\n",
       "      <td>23</td>\n",
       "      <td>14</td>\n",
       "      <td>1</td>\n",
       "      <td>5</td>\n",
       "      <td>3</td>\n",
       "      <td>1 year professional experience   24 years teac...</td>\n",
       "      <td>2</td>\n",
       "      <td>0</td>\n",
       "      <td>0</td>\n",
       "      <td>0</td>\n",
       "      <td>0</td>\n",
       "    </tr>\n",
       "  </tbody>\n",
       "</table>\n",
       "</div>"
      ],
      "text/plain": [
       "        ID           Name  Location  Title  Date_joined  Supervisor  \\\n",
       "0  9210743     Jim Hunter        12      0           17           0   \n",
       "1  9001784     Jose Nadal        12      0            7           0   \n",
       "2  9062955  Pierre Cornet        12      0           14           0   \n",
       "3  9500000    Sally Smith        12      0           23           0   \n",
       "4  9500001   Ned Shearer         12      1           23          14   \n",
       "\n",
       "   Highest_qualification_level  Major  Teaching_subject  \\\n",
       "0                            2      3                 1   \n",
       "1                            2      3                 2   \n",
       "2                            2      9                 8   \n",
       "3                            1      3                 5   \n",
       "4                            1      5                 3   \n",
       "\n",
       "                                    Other_experience  Type_of_Experience  \\\n",
       "0  10  Years Small Business Ownership  10  Years ...                   1   \n",
       "1  years of teaching experience  17              ...                   0   \n",
       "2  Years of teaching experience  15 Years of prof...                   1   \n",
       "3  6 years professional experience   6 years teac...                   2   \n",
       "4  1 year professional experience   24 years teac...                   2   \n",
       "\n",
       "   Courses_Taught_1  Courses_Taught_2  Courses_Taught_3  Courses_Taught_4  \n",
       "0                 1                 5                 0                 0  \n",
       "1                 0                 0                 0                 7  \n",
       "2                 4                 0                 5                 0  \n",
       "3                 0                 0                 0                 0  \n",
       "4                 0                 0                 0                 0  "
      ]
     },
     "execution_count": 1271,
     "metadata": {},
     "output_type": "execute_result"
    }
   ],
   "source": [
    "df.head()"
   ]
  },
  {
   "cell_type": "code",
   "execution_count": 1272,
   "metadata": {},
   "outputs": [
    {
     "data": {
      "text/html": [
       "<div>\n",
       "<style scoped>\n",
       "    .dataframe tbody tr th:only-of-type {\n",
       "        vertical-align: middle;\n",
       "    }\n",
       "\n",
       "    .dataframe tbody tr th {\n",
       "        vertical-align: top;\n",
       "    }\n",
       "\n",
       "    .dataframe thead th {\n",
       "        text-align: right;\n",
       "    }\n",
       "</style>\n",
       "<table border=\"1\" class=\"dataframe\">\n",
       "  <thead>\n",
       "    <tr style=\"text-align: right;\">\n",
       "      <th></th>\n",
       "      <th>ID</th>\n",
       "      <th>Name</th>\n",
       "      <th>Location</th>\n",
       "      <th>Title</th>\n",
       "      <th>Date_joined</th>\n",
       "      <th>Supervisor</th>\n",
       "      <th>Highest_qualification_level</th>\n",
       "      <th>Major</th>\n",
       "      <th>Teaching_subject</th>\n",
       "      <th>Other_experience</th>\n",
       "      <th>Type_of_Experience</th>\n",
       "      <th>Courses_Taught_1</th>\n",
       "      <th>Courses_Taught_2</th>\n",
       "      <th>Courses_Taught_3</th>\n",
       "      <th>Courses_Taught_4</th>\n",
       "    </tr>\n",
       "  </thead>\n",
       "  <tbody>\n",
       "    <tr>\n",
       "      <th>279</th>\n",
       "      <td>9500042</td>\n",
       "      <td>Cami Wiegand</td>\n",
       "      <td>5</td>\n",
       "      <td>0</td>\n",
       "      <td>23</td>\n",
       "      <td>10</td>\n",
       "      <td>1</td>\n",
       "      <td>5</td>\n",
       "      <td>3</td>\n",
       "      <td>9 years professional experience  11 years teac...</td>\n",
       "      <td>2</td>\n",
       "      <td>0</td>\n",
       "      <td>0</td>\n",
       "      <td>0</td>\n",
       "      <td>0</td>\n",
       "    </tr>\n",
       "    <tr>\n",
       "      <th>280</th>\n",
       "      <td>9500043</td>\n",
       "      <td>Alan Sheely</td>\n",
       "      <td>5</td>\n",
       "      <td>0</td>\n",
       "      <td>23</td>\n",
       "      <td>10</td>\n",
       "      <td>1</td>\n",
       "      <td>9</td>\n",
       "      <td>9</td>\n",
       "      <td>16 years professional  consulting  experience ...</td>\n",
       "      <td>2</td>\n",
       "      <td>0</td>\n",
       "      <td>0</td>\n",
       "      <td>0</td>\n",
       "      <td>0</td>\n",
       "    </tr>\n",
       "    <tr>\n",
       "      <th>281</th>\n",
       "      <td>9500044</td>\n",
       "      <td>Allison Gall</td>\n",
       "      <td>5</td>\n",
       "      <td>0</td>\n",
       "      <td>23</td>\n",
       "      <td>10</td>\n",
       "      <td>1</td>\n",
       "      <td>3</td>\n",
       "      <td>5</td>\n",
       "      <td>14 years professional experience   9 years tea...</td>\n",
       "      <td>2</td>\n",
       "      <td>0</td>\n",
       "      <td>0</td>\n",
       "      <td>0</td>\n",
       "      <td>0</td>\n",
       "    </tr>\n",
       "    <tr>\n",
       "      <th>282</th>\n",
       "      <td>9500045</td>\n",
       "      <td>Myles Tena</td>\n",
       "      <td>5</td>\n",
       "      <td>0</td>\n",
       "      <td>23</td>\n",
       "      <td>10</td>\n",
       "      <td>1</td>\n",
       "      <td>3</td>\n",
       "      <td>4</td>\n",
       "      <td>12 years professional experience   11 years te...</td>\n",
       "      <td>2</td>\n",
       "      <td>0</td>\n",
       "      <td>0</td>\n",
       "      <td>0</td>\n",
       "      <td>0</td>\n",
       "    </tr>\n",
       "    <tr>\n",
       "      <th>283</th>\n",
       "      <td>9500046</td>\n",
       "      <td>Dessie Burruss</td>\n",
       "      <td>5</td>\n",
       "      <td>0</td>\n",
       "      <td>23</td>\n",
       "      <td>10</td>\n",
       "      <td>1</td>\n",
       "      <td>8</td>\n",
       "      <td>8</td>\n",
       "      <td>16 years professional experience  11 year teac...</td>\n",
       "      <td>2</td>\n",
       "      <td>0</td>\n",
       "      <td>0</td>\n",
       "      <td>0</td>\n",
       "      <td>0</td>\n",
       "    </tr>\n",
       "  </tbody>\n",
       "</table>\n",
       "</div>"
      ],
      "text/plain": [
       "          ID              Name  Location  Title  Date_joined  Supervisor  \\\n",
       "279  9500042    Cami Wiegand           5      0           23          10   \n",
       "280  9500043     Alan Sheely           5      0           23          10   \n",
       "281  9500044    Allison Gall           5      0           23          10   \n",
       "282  9500045      Myles Tena           5      0           23          10   \n",
       "283  9500046  Dessie Burruss           5      0           23          10   \n",
       "\n",
       "     Highest_qualification_level  Major  Teaching_subject  \\\n",
       "279                            1      5                 3   \n",
       "280                            1      9                 9   \n",
       "281                            1      3                 5   \n",
       "282                            1      3                 4   \n",
       "283                            1      8                 8   \n",
       "\n",
       "                                      Other_experience  Type_of_Experience  \\\n",
       "279  9 years professional experience  11 years teac...                   2   \n",
       "280  16 years professional  consulting  experience ...                   2   \n",
       "281  14 years professional experience   9 years tea...                   2   \n",
       "282  12 years professional experience   11 years te...                   2   \n",
       "283  16 years professional experience  11 year teac...                   2   \n",
       "\n",
       "     Courses_Taught_1  Courses_Taught_2  Courses_Taught_3  Courses_Taught_4  \n",
       "279                 0                 0                 0                 0  \n",
       "280                 0                 0                 0                 0  \n",
       "281                 0                 0                 0                 0  \n",
       "282                 0                 0                 0                 0  \n",
       "283                 0                 0                 0                 0  "
      ]
     },
     "execution_count": 1272,
     "metadata": {},
     "output_type": "execute_result"
    }
   ],
   "source": [
    "df.tail()"
   ]
  },
  {
   "cell_type": "code",
   "execution_count": 1273,
   "metadata": {},
   "outputs": [
    {
     "name": "stdout",
     "output_type": "stream",
     "text": [
      "4095\n",
      "(273, 15)\n",
      "2\n"
     ]
    }
   ],
   "source": [
    "print(df.size)\n",
    "print(df.shape)\n",
    "print(df.ndim)"
   ]
  },
  {
   "cell_type": "code",
   "execution_count": 1279,
   "metadata": {},
   "outputs": [
    {
     "name": "stderr",
     "output_type": "stream",
     "text": [
      "<ipython-input-1279-caaaa84b3b9d>:2: UserWarning: Pandas requires version '1.4.3' or newer of 'xlsxwriter' (version '1.3.7' currently installed).\n",
      "  df.to_excel(\"SIS_Faculty-List_cleaned_for_ML.xlsx\")\n"
     ]
    }
   ],
   "source": [
    "## Output to Excel file \n",
    "df.to_excel(\"SIS_Faculty-List_cleaned_for_ML.xlsx\") \n",
    "df.to_csv('SIS_Faculty-List_cleaned_for_ML.txt')"
   ]
  }
 ],
 "metadata": {
  "interpreter": {
   "hash": "3ba31f5be4a6afd8d2e75d906d479805ae45dca85c950350fe1344f313c20cbd"
  },
  "kernelspec": {
   "display_name": "Python 3.8.5 ('base')",
   "language": "python",
   "name": "python3"
  },
  "language_info": {
   "codemirror_mode": {
    "name": "ipython",
    "version": 3
   },
   "file_extension": ".py",
   "mimetype": "text/x-python",
   "name": "python",
   "nbconvert_exporter": "python",
   "pygments_lexer": "ipython3",
   "version": "3.8.5"
  },
  "orig_nbformat": 4
 },
 "nbformat": 4,
 "nbformat_minor": 2
}
